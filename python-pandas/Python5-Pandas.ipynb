{
 "cells": [
  {
   "cell_type": "code",
   "execution_count": 1,
   "metadata": {},
   "outputs": [],
   "source": [
    "import pandas as pd"
   ]
  },
  {
   "cell_type": "markdown",
   "metadata": {},
   "source": [
    "#### Serias"
   ]
  },
  {
   "cell_type": "code",
   "execution_count": 2,
   "metadata": {},
   "outputs": [
    {
     "data": {
      "text/plain": [
       "Первый        Январь\n",
       "Второй       Февраль\n",
       "Третий          Март\n",
       "Четвёртый     Апрель\n",
       "dtype: object"
      ]
     },
     "metadata": {},
     "output_type": "display_data"
    }
   ],
   "source": [
    "import pandas as pd\n",
    "\n",
    "data = pd.Series([\"Январь\", \"Февраль\", \"Март\", \"Апрель\"],\n",
    "                 index = ['Первый', \"Второй\", \"Третий\", \"Четвёртый\"])\n",
    "display(data)"
   ]
  },
  {
   "cell_type": "code",
   "execution_count": 3,
   "metadata": {},
   "outputs": [
    {
     "data": {
      "text/plain": [
       "'Январь'"
      ]
     },
     "execution_count": 3,
     "metadata": {},
     "output_type": "execute_result"
    }
   ],
   "source": [
    "data.loc[\"Первый\"]"
   ]
  },
  {
   "cell_type": "code",
   "execution_count": 4,
   "metadata": {},
   "outputs": [
    {
     "data": {
      "text/plain": [
       "Первый    Январь\n",
       "Третий      Март\n",
       "dtype: object"
      ]
     },
     "execution_count": 4,
     "metadata": {},
     "output_type": "execute_result"
    }
   ],
   "source": [
    "data.loc[[\"Первый\", \"Третий\"]]"
   ]
  },
  {
   "cell_type": "code",
   "execution_count": 5,
   "metadata": {},
   "outputs": [],
   "source": [
    "data = pd.Series(list(range(10, 1001)))"
   ]
  },
  {
   "cell_type": "code",
   "execution_count": 6,
   "metadata": {},
   "outputs": [
    {
     "data": {
      "text/plain": [
       "0        10\n",
       "1        11\n",
       "2        12\n",
       "3        13\n",
       "4        14\n",
       "       ... \n",
       "986     996\n",
       "987     997\n",
       "988     998\n",
       "989     999\n",
       "990    1000\n",
       "Length: 991, dtype: int64"
      ]
     },
     "execution_count": 6,
     "metadata": {},
     "output_type": "execute_result"
    }
   ],
   "source": [
    "data"
   ]
  },
  {
   "cell_type": "code",
   "execution_count": 8,
   "metadata": {},
   "outputs": [
    {
     "name": "stdout",
     "output_type": "stream",
     "text": [
      "-70\n"
     ]
    }
   ],
   "source": [
    "print(data.loc[10] + data.loc[23] - data.loc[245] + data.iloc[122])"
   ]
  },
  {
   "cell_type": "markdown",
   "metadata": {},
   "source": [
    "#### DataFrame"
   ]
  },
  {
   "cell_type": "code",
   "execution_count": 10,
   "metadata": {},
   "outputs": [
    {
     "data": {
      "text/html": [
       "<div>\n",
       "<style scoped>\n",
       "    .dataframe tbody tr th:only-of-type {\n",
       "        vertical-align: middle;\n",
       "    }\n",
       "\n",
       "    .dataframe tbody tr th {\n",
       "        vertical-align: top;\n",
       "    }\n",
       "\n",
       "    .dataframe thead th {\n",
       "        text-align: right;\n",
       "    }\n",
       "</style>\n",
       "<table border=\"1\" class=\"dataframe\">\n",
       "  <thead>\n",
       "    <tr style=\"text-align: right;\">\n",
       "      <th></th>\n",
       "      <th>foo</th>\n",
       "      <th>bar</th>\n",
       "      <th>baz</th>\n",
       "    </tr>\n",
       "  </thead>\n",
       "  <tbody>\n",
       "    <tr>\n",
       "      <th>foobar</th>\n",
       "      <td>1</td>\n",
       "      <td>2</td>\n",
       "      <td>3</td>\n",
       "    </tr>\n",
       "    <tr>\n",
       "      <th>foobaz</th>\n",
       "      <td>2</td>\n",
       "      <td>3</td>\n",
       "      <td>4</td>\n",
       "    </tr>\n",
       "  </tbody>\n",
       "</table>\n",
       "</div>"
      ],
      "text/plain": [
       "        foo  bar  baz\n",
       "foobar    1    2    3\n",
       "foobaz    2    3    4"
      ]
     },
     "execution_count": 10,
     "metadata": {},
     "output_type": "execute_result"
    }
   ],
   "source": [
    "df = pd.DataFrame([ [1,2,3], [2,3,4] ],\n",
    "                  columns = ['foo', 'bar', 'baz'], \n",
    "                  index = ['foobar', 'foobaz'])\n",
    "df"
   ]
  },
  {
   "cell_type": "code",
   "execution_count": 12,
   "metadata": {},
   "outputs": [
    {
     "data": {
      "text/html": [
       "<div>\n",
       "<style scoped>\n",
       "    .dataframe tbody tr th:only-of-type {\n",
       "        vertical-align: middle;\n",
       "    }\n",
       "\n",
       "    .dataframe tbody tr th {\n",
       "        vertical-align: top;\n",
       "    }\n",
       "\n",
       "    .dataframe thead th {\n",
       "        text-align: right;\n",
       "    }\n",
       "</style>\n",
       "<table border=\"1\" class=\"dataframe\">\n",
       "  <thead>\n",
       "    <tr style=\"text-align: right;\">\n",
       "      <th></th>\n",
       "      <th>Тестовая колонка</th>\n",
       "    </tr>\n",
       "  </thead>\n",
       "  <tbody>\n",
       "    <tr>\n",
       "      <th>0</th>\n",
       "      <td>1</td>\n",
       "    </tr>\n",
       "    <tr>\n",
       "      <th>1</th>\n",
       "      <td>5</td>\n",
       "    </tr>\n",
       "  </tbody>\n",
       "</table>\n",
       "</div>"
      ],
      "text/plain": [
       "   Тестовая колонка\n",
       "0                 1\n",
       "1                 5"
      ]
     },
     "execution_count": 12,
     "metadata": {},
     "output_type": "execute_result"
    }
   ],
   "source": [
    "pd.DataFrame({'Тестовая колонка':[1,5]})"
   ]
  },
  {
   "cell_type": "code",
   "execution_count": 2,
   "metadata": {},
   "outputs": [
    {
     "data": {
      "text/html": [
       "<div>\n",
       "<style scoped>\n",
       "    .dataframe tbody tr th:only-of-type {\n",
       "        vertical-align: middle;\n",
       "    }\n",
       "\n",
       "    .dataframe tbody tr th {\n",
       "        vertical-align: top;\n",
       "    }\n",
       "\n",
       "    .dataframe thead th {\n",
       "        text-align: right;\n",
       "    }\n",
       "</style>\n",
       "<table border=\"1\" class=\"dataframe\">\n",
       "  <thead>\n",
       "    <tr style=\"text-align: right;\">\n",
       "      <th></th>\n",
       "      <th>Name</th>\n",
       "      <th>Age</th>\n",
       "      <th>Nationality</th>\n",
       "      <th>Club</th>\n",
       "      <th>Value</th>\n",
       "      <th>Wage</th>\n",
       "      <th>Position</th>\n",
       "      <th>Crossing</th>\n",
       "      <th>Finishing</th>\n",
       "      <th>HeadingAccuracy</th>\n",
       "      <th>...</th>\n",
       "      <th>Penalties</th>\n",
       "      <th>Composure</th>\n",
       "      <th>Marking</th>\n",
       "      <th>StandingTackle</th>\n",
       "      <th>SlidingTackle</th>\n",
       "      <th>GKDiving</th>\n",
       "      <th>GKHandling</th>\n",
       "      <th>GKKicking</th>\n",
       "      <th>GKPositioning</th>\n",
       "      <th>GKReflexes</th>\n",
       "    </tr>\n",
       "  </thead>\n",
       "  <tbody>\n",
       "    <tr>\n",
       "      <th>0</th>\n",
       "      <td>L. Messi</td>\n",
       "      <td>31</td>\n",
       "      <td>Argentina</td>\n",
       "      <td>FC Barcelona</td>\n",
       "      <td>110500000</td>\n",
       "      <td>565000</td>\n",
       "      <td>RF</td>\n",
       "      <td>84</td>\n",
       "      <td>95</td>\n",
       "      <td>70</td>\n",
       "      <td>...</td>\n",
       "      <td>75</td>\n",
       "      <td>96</td>\n",
       "      <td>33</td>\n",
       "      <td>28</td>\n",
       "      <td>26</td>\n",
       "      <td>6</td>\n",
       "      <td>11</td>\n",
       "      <td>15</td>\n",
       "      <td>14</td>\n",
       "      <td>8</td>\n",
       "    </tr>\n",
       "    <tr>\n",
       "      <th>1</th>\n",
       "      <td>Cristiano Ronaldo</td>\n",
       "      <td>33</td>\n",
       "      <td>Portugal</td>\n",
       "      <td>Juventus</td>\n",
       "      <td>77000000</td>\n",
       "      <td>405000</td>\n",
       "      <td>ST</td>\n",
       "      <td>84</td>\n",
       "      <td>94</td>\n",
       "      <td>89</td>\n",
       "      <td>...</td>\n",
       "      <td>85</td>\n",
       "      <td>95</td>\n",
       "      <td>28</td>\n",
       "      <td>31</td>\n",
       "      <td>23</td>\n",
       "      <td>7</td>\n",
       "      <td>11</td>\n",
       "      <td>15</td>\n",
       "      <td>14</td>\n",
       "      <td>11</td>\n",
       "    </tr>\n",
       "    <tr>\n",
       "      <th>2</th>\n",
       "      <td>Neymar Jr</td>\n",
       "      <td>26</td>\n",
       "      <td>Brazil</td>\n",
       "      <td>Paris Saint-Germain</td>\n",
       "      <td>118500000</td>\n",
       "      <td>290000</td>\n",
       "      <td>LW</td>\n",
       "      <td>79</td>\n",
       "      <td>87</td>\n",
       "      <td>62</td>\n",
       "      <td>...</td>\n",
       "      <td>81</td>\n",
       "      <td>94</td>\n",
       "      <td>27</td>\n",
       "      <td>24</td>\n",
       "      <td>33</td>\n",
       "      <td>9</td>\n",
       "      <td>9</td>\n",
       "      <td>15</td>\n",
       "      <td>15</td>\n",
       "      <td>11</td>\n",
       "    </tr>\n",
       "    <tr>\n",
       "      <th>3</th>\n",
       "      <td>De Gea</td>\n",
       "      <td>27</td>\n",
       "      <td>Spain</td>\n",
       "      <td>Manchester United</td>\n",
       "      <td>72000000</td>\n",
       "      <td>260000</td>\n",
       "      <td>GK</td>\n",
       "      <td>17</td>\n",
       "      <td>13</td>\n",
       "      <td>21</td>\n",
       "      <td>...</td>\n",
       "      <td>40</td>\n",
       "      <td>68</td>\n",
       "      <td>15</td>\n",
       "      <td>21</td>\n",
       "      <td>13</td>\n",
       "      <td>90</td>\n",
       "      <td>85</td>\n",
       "      <td>87</td>\n",
       "      <td>88</td>\n",
       "      <td>94</td>\n",
       "    </tr>\n",
       "    <tr>\n",
       "      <th>4</th>\n",
       "      <td>K. De Bruyne</td>\n",
       "      <td>27</td>\n",
       "      <td>Belgium</td>\n",
       "      <td>Manchester City</td>\n",
       "      <td>102000000</td>\n",
       "      <td>355000</td>\n",
       "      <td>RCM</td>\n",
       "      <td>93</td>\n",
       "      <td>82</td>\n",
       "      <td>55</td>\n",
       "      <td>...</td>\n",
       "      <td>79</td>\n",
       "      <td>88</td>\n",
       "      <td>68</td>\n",
       "      <td>58</td>\n",
       "      <td>51</td>\n",
       "      <td>15</td>\n",
       "      <td>13</td>\n",
       "      <td>5</td>\n",
       "      <td>10</td>\n",
       "      <td>13</td>\n",
       "    </tr>\n",
       "  </tbody>\n",
       "</table>\n",
       "<p>5 rows × 41 columns</p>\n",
       "</div>"
      ],
      "text/plain": [
       "                Name  Age Nationality                 Club      Value    Wage  \\\n",
       "0           L. Messi   31   Argentina         FC Barcelona  110500000  565000   \n",
       "1  Cristiano Ronaldo   33    Portugal             Juventus   77000000  405000   \n",
       "2          Neymar Jr   26      Brazil  Paris Saint-Germain  118500000  290000   \n",
       "3             De Gea   27       Spain    Manchester United   72000000  260000   \n",
       "4       K. De Bruyne   27     Belgium      Manchester City  102000000  355000   \n",
       "\n",
       "  Position  Crossing  Finishing  HeadingAccuracy  ...  Penalties  Composure  \\\n",
       "0       RF        84         95               70  ...         75         96   \n",
       "1       ST        84         94               89  ...         85         95   \n",
       "2       LW        79         87               62  ...         81         94   \n",
       "3       GK        17         13               21  ...         40         68   \n",
       "4      RCM        93         82               55  ...         79         88   \n",
       "\n",
       "   Marking  StandingTackle  SlidingTackle  GKDiving  GKHandling  GKKicking  \\\n",
       "0       33              28             26         6          11         15   \n",
       "1       28              31             23         7          11         15   \n",
       "2       27              24             33         9           9         15   \n",
       "3       15              21             13        90          85         87   \n",
       "4       68              58             51        15          13          5   \n",
       "\n",
       "   GKPositioning  GKReflexes  \n",
       "0             14           8  \n",
       "1             14          11  \n",
       "2             15          11  \n",
       "3             88          94  \n",
       "4             10          13  \n",
       "\n",
       "[5 rows x 41 columns]"
      ]
     },
     "execution_count": 2,
     "metadata": {},
     "output_type": "execute_result"
    }
   ],
   "source": [
    "import pandas as pd\n",
    "\n",
    "football = pd.read_csv('data/data_sf.csv', index_col=[0])\n",
    "# display(football.head())\n",
    "football.head()"
   ]
  },
  {
   "cell_type": "code",
   "execution_count": 18,
   "metadata": {},
   "outputs": [
    {
     "name": "stdout",
     "output_type": "stream",
     "text": [
      "<class 'pandas.core.frame.DataFrame'>\n",
      "RangeIndex: 12897 entries, 0 to 12896\n",
      "Data columns (total 42 columns):\n",
      " #   Column           Non-Null Count  Dtype \n",
      "---  ------           --------------  ----- \n",
      " 0   Unnamed: 0       12897 non-null  int64 \n",
      " 1   Name             12897 non-null  object\n",
      " 2   Age              12897 non-null  int64 \n",
      " 3   Nationality      12897 non-null  object\n",
      " 4   Club             12897 non-null  object\n",
      " 5   Value            12897 non-null  int64 \n",
      " 6   Wage             12897 non-null  int64 \n",
      " 7   Position         12897 non-null  object\n",
      " 8   Crossing         12897 non-null  int64 \n",
      " 9   Finishing        12897 non-null  int64 \n",
      " 10  HeadingAccuracy  12897 non-null  int64 \n",
      " 11  ShortPassing     12897 non-null  int64 \n",
      " 12  Volleys          12897 non-null  int64 \n",
      " 13  Dribbling        12897 non-null  int64 \n",
      " 14  Curve            12897 non-null  int64 \n",
      " 15  FKAccuracy       12897 non-null  int64 \n",
      " 16  LongPassing      12897 non-null  int64 \n",
      " 17  BallControl      12897 non-null  int64 \n",
      " 18  Acceleration     12897 non-null  int64 \n",
      " 19  SprintSpeed      12897 non-null  int64 \n",
      " 20  Agility          12897 non-null  int64 \n",
      " 21  Reactions        12897 non-null  int64 \n",
      " 22  Balance          12897 non-null  int64 \n",
      " 23  ShotPower        12897 non-null  int64 \n",
      " 24  Jumping          12897 non-null  int64 \n",
      " 25  Stamina          12897 non-null  int64 \n",
      " 26  Strength         12897 non-null  int64 \n",
      " 27  LongShots        12897 non-null  int64 \n",
      " 28  Aggression       12897 non-null  int64 \n",
      " 29  Interceptions    12897 non-null  int64 \n",
      " 30  Positioning      12897 non-null  int64 \n",
      " 31  Vision           12897 non-null  int64 \n",
      " 32  Penalties        12897 non-null  int64 \n",
      " 33  Composure        12897 non-null  int64 \n",
      " 34  Marking          12897 non-null  int64 \n",
      " 35  StandingTackle   12897 non-null  int64 \n",
      " 36  SlidingTackle    12897 non-null  int64 \n",
      " 37  GKDiving         12897 non-null  int64 \n",
      " 38  GKHandling       12897 non-null  int64 \n",
      " 39  GKKicking        12897 non-null  int64 \n",
      " 40  GKPositioning    12897 non-null  int64 \n",
      " 41  GKReflexes       12897 non-null  int64 \n",
      "dtypes: int64(38), object(4)\n",
      "memory usage: 4.1+ MB\n"
     ]
    },
    {
     "data": {
      "text/plain": [
       "None"
      ]
     },
     "metadata": {},
     "output_type": "display_data"
    }
   ],
   "source": [
    "import pandas as pd\n",
    "\n",
    "football = pd.read_csv('data/data_sf.csv')\n",
    "display(football.info())"
   ]
  },
  {
   "cell_type": "code",
   "execution_count": 20,
   "metadata": {},
   "outputs": [
    {
     "name": "stdout",
     "output_type": "stream",
     "text": [
      "<class 'pandas.core.frame.DataFrame'>\n",
      "RangeIndex: 12897 entries, 0 to 12896\n",
      "Data columns (total 42 columns):\n",
      " #   Column           Non-Null Count  Dtype \n",
      "---  ------           --------------  ----- \n",
      " 0   Unnamed: 0       12897 non-null  int64 \n",
      " 1   Name             12897 non-null  object\n",
      " 2   Age              12897 non-null  int64 \n",
      " 3   Nationality      12897 non-null  object\n",
      " 4   Club             12897 non-null  object\n",
      " 5   Value            12897 non-null  int64 \n",
      " 6   Wage             12897 non-null  int64 \n",
      " 7   Position         12897 non-null  object\n",
      " 8   Crossing         12897 non-null  int64 \n",
      " 9   Finishing        12897 non-null  int64 \n",
      " 10  HeadingAccuracy  12897 non-null  int64 \n",
      " 11  ShortPassing     12897 non-null  int64 \n",
      " 12  Volleys          12897 non-null  int64 \n",
      " 13  Dribbling        12897 non-null  int64 \n",
      " 14  Curve            12897 non-null  int64 \n",
      " 15  FKAccuracy       12897 non-null  int64 \n",
      " 16  LongPassing      12897 non-null  int64 \n",
      " 17  BallControl      12897 non-null  int64 \n",
      " 18  Acceleration     12897 non-null  int64 \n",
      " 19  SprintSpeed      12897 non-null  int64 \n",
      " 20  Agility          12897 non-null  int64 \n",
      " 21  Reactions        12897 non-null  int64 \n",
      " 22  Balance          12897 non-null  int64 \n",
      " 23  ShotPower        12897 non-null  int64 \n",
      " 24  Jumping          12897 non-null  int64 \n",
      " 25  Stamina          12897 non-null  int64 \n",
      " 26  Strength         12897 non-null  int64 \n",
      " 27  LongShots        12897 non-null  int64 \n",
      " 28  Aggression       12897 non-null  int64 \n",
      " 29  Interceptions    12897 non-null  int64 \n",
      " 30  Positioning      12897 non-null  int64 \n",
      " 31  Vision           12897 non-null  int64 \n",
      " 32  Penalties        12897 non-null  int64 \n",
      " 33  Composure        12897 non-null  int64 \n",
      " 34  Marking          12897 non-null  int64 \n",
      " 35  StandingTackle   12897 non-null  int64 \n",
      " 36  SlidingTackle    12897 non-null  int64 \n",
      " 37  GKDiving         12897 non-null  int64 \n",
      " 38  GKHandling       12897 non-null  int64 \n",
      " 39  GKKicking        12897 non-null  int64 \n",
      " 40  GKPositioning    12897 non-null  int64 \n",
      " 41  GKReflexes       12897 non-null  int64 \n",
      "dtypes: int64(38), object(4)\n",
      "memory usage: 4.1+ MB\n"
     ]
    }
   ],
   "source": [
    "football.info(null_counts=True)"
   ]
  },
  {
   "cell_type": "code",
   "execution_count": 21,
   "metadata": {},
   "outputs": [
    {
     "data": {
      "text/html": [
       "<div>\n",
       "<style scoped>\n",
       "    .dataframe tbody tr th:only-of-type {\n",
       "        vertical-align: middle;\n",
       "    }\n",
       "\n",
       "    .dataframe tbody tr th {\n",
       "        vertical-align: top;\n",
       "    }\n",
       "\n",
       "    .dataframe thead th {\n",
       "        text-align: right;\n",
       "    }\n",
       "</style>\n",
       "<table border=\"1\" class=\"dataframe\">\n",
       "  <thead>\n",
       "    <tr style=\"text-align: right;\">\n",
       "      <th></th>\n",
       "      <th>Unnamed: 0</th>\n",
       "      <th>Age</th>\n",
       "      <th>Value</th>\n",
       "      <th>Wage</th>\n",
       "      <th>Crossing</th>\n",
       "      <th>Finishing</th>\n",
       "      <th>HeadingAccuracy</th>\n",
       "      <th>ShortPassing</th>\n",
       "      <th>Volleys</th>\n",
       "      <th>Dribbling</th>\n",
       "      <th>...</th>\n",
       "      <th>Penalties</th>\n",
       "      <th>Composure</th>\n",
       "      <th>Marking</th>\n",
       "      <th>StandingTackle</th>\n",
       "      <th>SlidingTackle</th>\n",
       "      <th>GKDiving</th>\n",
       "      <th>GKHandling</th>\n",
       "      <th>GKKicking</th>\n",
       "      <th>GKPositioning</th>\n",
       "      <th>GKReflexes</th>\n",
       "    </tr>\n",
       "  </thead>\n",
       "  <tbody>\n",
       "    <tr>\n",
       "      <th>count</th>\n",
       "      <td>12897.000000</td>\n",
       "      <td>12897.000000</td>\n",
       "      <td>1.289700e+04</td>\n",
       "      <td>12897.000000</td>\n",
       "      <td>12897.000000</td>\n",
       "      <td>12897.000000</td>\n",
       "      <td>12897.000000</td>\n",
       "      <td>12897.000000</td>\n",
       "      <td>12897.000000</td>\n",
       "      <td>12897.000000</td>\n",
       "      <td>...</td>\n",
       "      <td>12897.000000</td>\n",
       "      <td>12897.000000</td>\n",
       "      <td>12897.000000</td>\n",
       "      <td>12897.000000</td>\n",
       "      <td>12897.000000</td>\n",
       "      <td>12897.000000</td>\n",
       "      <td>12897.000000</td>\n",
       "      <td>12897.000000</td>\n",
       "      <td>12897.000000</td>\n",
       "      <td>12897.000000</td>\n",
       "    </tr>\n",
       "    <tr>\n",
       "      <th>mean</th>\n",
       "      <td>6605.040862</td>\n",
       "      <td>24.795379</td>\n",
       "      <td>2.112449e+06</td>\n",
       "      <td>7517.562224</td>\n",
       "      <td>47.076374</td>\n",
       "      <td>42.876328</td>\n",
       "      <td>50.202528</td>\n",
       "      <td>56.026983</td>\n",
       "      <td>40.295030</td>\n",
       "      <td>52.461735</td>\n",
       "      <td>...</td>\n",
       "      <td>46.459874</td>\n",
       "      <td>55.942932</td>\n",
       "      <td>45.655811</td>\n",
       "      <td>46.186710</td>\n",
       "      <td>44.386679</td>\n",
       "      <td>17.218345</td>\n",
       "      <td>16.962317</td>\n",
       "      <td>16.797938</td>\n",
       "      <td>16.950221</td>\n",
       "      <td>17.315965</td>\n",
       "    </tr>\n",
       "    <tr>\n",
       "      <th>std</th>\n",
       "      <td>3782.545526</td>\n",
       "      <td>4.872212</td>\n",
       "      <td>6.498424e+06</td>\n",
       "      <td>23061.985387</td>\n",
       "      <td>18.043470</td>\n",
       "      <td>19.096935</td>\n",
       "      <td>17.281593</td>\n",
       "      <td>14.740436</td>\n",
       "      <td>17.080687</td>\n",
       "      <td>18.871643</td>\n",
       "      <td>...</td>\n",
       "      <td>15.479313</td>\n",
       "      <td>11.280631</td>\n",
       "      <td>19.456346</td>\n",
       "      <td>21.172586</td>\n",
       "      <td>20.726546</td>\n",
       "      <td>18.085618</td>\n",
       "      <td>17.349624</td>\n",
       "      <td>16.971411</td>\n",
       "      <td>17.369297</td>\n",
       "      <td>18.335817</td>\n",
       "    </tr>\n",
       "    <tr>\n",
       "      <th>min</th>\n",
       "      <td>0.000000</td>\n",
       "      <td>16.000000</td>\n",
       "      <td>0.000000e+00</td>\n",
       "      <td>1000.000000</td>\n",
       "      <td>5.000000</td>\n",
       "      <td>2.000000</td>\n",
       "      <td>4.000000</td>\n",
       "      <td>7.000000</td>\n",
       "      <td>4.000000</td>\n",
       "      <td>4.000000</td>\n",
       "      <td>...</td>\n",
       "      <td>5.000000</td>\n",
       "      <td>12.000000</td>\n",
       "      <td>3.000000</td>\n",
       "      <td>2.000000</td>\n",
       "      <td>3.000000</td>\n",
       "      <td>1.000000</td>\n",
       "      <td>1.000000</td>\n",
       "      <td>1.000000</td>\n",
       "      <td>1.000000</td>\n",
       "      <td>1.000000</td>\n",
       "    </tr>\n",
       "    <tr>\n",
       "      <th>25%</th>\n",
       "      <td>3357.000000</td>\n",
       "      <td>21.000000</td>\n",
       "      <td>2.500000e+05</td>\n",
       "      <td>1000.000000</td>\n",
       "      <td>35.000000</td>\n",
       "      <td>28.000000</td>\n",
       "      <td>43.000000</td>\n",
       "      <td>50.000000</td>\n",
       "      <td>28.000000</td>\n",
       "      <td>45.000000</td>\n",
       "      <td>...</td>\n",
       "      <td>37.000000</td>\n",
       "      <td>49.000000</td>\n",
       "      <td>29.000000</td>\n",
       "      <td>25.000000</td>\n",
       "      <td>23.000000</td>\n",
       "      <td>8.000000</td>\n",
       "      <td>8.000000</td>\n",
       "      <td>8.000000</td>\n",
       "      <td>8.000000</td>\n",
       "      <td>8.000000</td>\n",
       "    </tr>\n",
       "    <tr>\n",
       "      <th>50%</th>\n",
       "      <td>6622.000000</td>\n",
       "      <td>24.000000</td>\n",
       "      <td>5.000000e+05</td>\n",
       "      <td>2000.000000</td>\n",
       "      <td>51.000000</td>\n",
       "      <td>45.000000</td>\n",
       "      <td>54.000000</td>\n",
       "      <td>60.000000</td>\n",
       "      <td>41.000000</td>\n",
       "      <td>58.000000</td>\n",
       "      <td>...</td>\n",
       "      <td>47.000000</td>\n",
       "      <td>56.000000</td>\n",
       "      <td>51.000000</td>\n",
       "      <td>54.000000</td>\n",
       "      <td>51.000000</td>\n",
       "      <td>11.000000</td>\n",
       "      <td>11.000000</td>\n",
       "      <td>11.000000</td>\n",
       "      <td>11.000000</td>\n",
       "      <td>11.000000</td>\n",
       "    </tr>\n",
       "    <tr>\n",
       "      <th>75%</th>\n",
       "      <td>9876.000000</td>\n",
       "      <td>28.000000</td>\n",
       "      <td>8.500000e+05</td>\n",
       "      <td>4000.000000</td>\n",
       "      <td>61.000000</td>\n",
       "      <td>59.000000</td>\n",
       "      <td>62.000000</td>\n",
       "      <td>65.000000</td>\n",
       "      <td>53.000000</td>\n",
       "      <td>65.000000</td>\n",
       "      <td>...</td>\n",
       "      <td>58.000000</td>\n",
       "      <td>63.000000</td>\n",
       "      <td>62.000000</td>\n",
       "      <td>64.000000</td>\n",
       "      <td>62.000000</td>\n",
       "      <td>14.000000</td>\n",
       "      <td>14.000000</td>\n",
       "      <td>14.000000</td>\n",
       "      <td>14.000000</td>\n",
       "      <td>14.000000</td>\n",
       "    </tr>\n",
       "    <tr>\n",
       "      <th>max</th>\n",
       "      <td>13125.000000</td>\n",
       "      <td>45.000000</td>\n",
       "      <td>1.185000e+08</td>\n",
       "      <td>565000.000000</td>\n",
       "      <td>93.000000</td>\n",
       "      <td>95.000000</td>\n",
       "      <td>94.000000</td>\n",
       "      <td>93.000000</td>\n",
       "      <td>90.000000</td>\n",
       "      <td>97.000000</td>\n",
       "      <td>...</td>\n",
       "      <td>91.000000</td>\n",
       "      <td>96.000000</td>\n",
       "      <td>93.000000</td>\n",
       "      <td>93.000000</td>\n",
       "      <td>91.000000</td>\n",
       "      <td>90.000000</td>\n",
       "      <td>92.000000</td>\n",
       "      <td>91.000000</td>\n",
       "      <td>90.000000</td>\n",
       "      <td>94.000000</td>\n",
       "    </tr>\n",
       "  </tbody>\n",
       "</table>\n",
       "<p>8 rows × 38 columns</p>\n",
       "</div>"
      ],
      "text/plain": [
       "         Unnamed: 0           Age         Value           Wage      Crossing  \\\n",
       "count  12897.000000  12897.000000  1.289700e+04   12897.000000  12897.000000   \n",
       "mean    6605.040862     24.795379  2.112449e+06    7517.562224     47.076374   \n",
       "std     3782.545526      4.872212  6.498424e+06   23061.985387     18.043470   \n",
       "min        0.000000     16.000000  0.000000e+00    1000.000000      5.000000   \n",
       "25%     3357.000000     21.000000  2.500000e+05    1000.000000     35.000000   \n",
       "50%     6622.000000     24.000000  5.000000e+05    2000.000000     51.000000   \n",
       "75%     9876.000000     28.000000  8.500000e+05    4000.000000     61.000000   \n",
       "max    13125.000000     45.000000  1.185000e+08  565000.000000     93.000000   \n",
       "\n",
       "          Finishing  HeadingAccuracy  ShortPassing       Volleys  \\\n",
       "count  12897.000000     12897.000000  12897.000000  12897.000000   \n",
       "mean      42.876328        50.202528     56.026983     40.295030   \n",
       "std       19.096935        17.281593     14.740436     17.080687   \n",
       "min        2.000000         4.000000      7.000000      4.000000   \n",
       "25%       28.000000        43.000000     50.000000     28.000000   \n",
       "50%       45.000000        54.000000     60.000000     41.000000   \n",
       "75%       59.000000        62.000000     65.000000     53.000000   \n",
       "max       95.000000        94.000000     93.000000     90.000000   \n",
       "\n",
       "          Dribbling  ...     Penalties     Composure       Marking  \\\n",
       "count  12897.000000  ...  12897.000000  12897.000000  12897.000000   \n",
       "mean      52.461735  ...     46.459874     55.942932     45.655811   \n",
       "std       18.871643  ...     15.479313     11.280631     19.456346   \n",
       "min        4.000000  ...      5.000000     12.000000      3.000000   \n",
       "25%       45.000000  ...     37.000000     49.000000     29.000000   \n",
       "50%       58.000000  ...     47.000000     56.000000     51.000000   \n",
       "75%       65.000000  ...     58.000000     63.000000     62.000000   \n",
       "max       97.000000  ...     91.000000     96.000000     93.000000   \n",
       "\n",
       "       StandingTackle  SlidingTackle      GKDiving    GKHandling  \\\n",
       "count    12897.000000   12897.000000  12897.000000  12897.000000   \n",
       "mean        46.186710      44.386679     17.218345     16.962317   \n",
       "std         21.172586      20.726546     18.085618     17.349624   \n",
       "min          2.000000       3.000000      1.000000      1.000000   \n",
       "25%         25.000000      23.000000      8.000000      8.000000   \n",
       "50%         54.000000      51.000000     11.000000     11.000000   \n",
       "75%         64.000000      62.000000     14.000000     14.000000   \n",
       "max         93.000000      91.000000     90.000000     92.000000   \n",
       "\n",
       "          GKKicking  GKPositioning    GKReflexes  \n",
       "count  12897.000000   12897.000000  12897.000000  \n",
       "mean      16.797938      16.950221     17.315965  \n",
       "std       16.971411      17.369297     18.335817  \n",
       "min        1.000000       1.000000      1.000000  \n",
       "25%        8.000000       8.000000      8.000000  \n",
       "50%       11.000000      11.000000     11.000000  \n",
       "75%       14.000000      14.000000     14.000000  \n",
       "max       91.000000      90.000000     94.000000  \n",
       "\n",
       "[8 rows x 38 columns]"
      ]
     },
     "execution_count": 21,
     "metadata": {},
     "output_type": "execute_result"
    }
   ],
   "source": [
    "football.describe()"
   ]
  },
  {
   "cell_type": "code",
   "execution_count": 22,
   "metadata": {},
   "outputs": [
    {
     "data": {
      "text/html": [
       "<div>\n",
       "<style scoped>\n",
       "    .dataframe tbody tr th:only-of-type {\n",
       "        vertical-align: middle;\n",
       "    }\n",
       "\n",
       "    .dataframe tbody tr th {\n",
       "        vertical-align: top;\n",
       "    }\n",
       "\n",
       "    .dataframe thead th {\n",
       "        text-align: right;\n",
       "    }\n",
       "</style>\n",
       "<table border=\"1\" class=\"dataframe\">\n",
       "  <thead>\n",
       "    <tr style=\"text-align: right;\">\n",
       "      <th></th>\n",
       "      <th>Name</th>\n",
       "      <th>Nationality</th>\n",
       "      <th>Club</th>\n",
       "      <th>Position</th>\n",
       "    </tr>\n",
       "  </thead>\n",
       "  <tbody>\n",
       "    <tr>\n",
       "      <th>count</th>\n",
       "      <td>12897</td>\n",
       "      <td>12897</td>\n",
       "      <td>12897</td>\n",
       "      <td>12897</td>\n",
       "    </tr>\n",
       "    <tr>\n",
       "      <th>unique</th>\n",
       "      <td>12326</td>\n",
       "      <td>156</td>\n",
       "      <td>650</td>\n",
       "      <td>27</td>\n",
       "    </tr>\n",
       "    <tr>\n",
       "      <th>top</th>\n",
       "      <td>J. Rodríguez</td>\n",
       "      <td>England</td>\n",
       "      <td>Shonan Bellmare</td>\n",
       "      <td>GK</td>\n",
       "    </tr>\n",
       "    <tr>\n",
       "      <th>freq</th>\n",
       "      <td>9</td>\n",
       "      <td>1368</td>\n",
       "      <td>30</td>\n",
       "      <td>1641</td>\n",
       "    </tr>\n",
       "  </tbody>\n",
       "</table>\n",
       "</div>"
      ],
      "text/plain": [
       "                Name Nationality             Club Position\n",
       "count          12897       12897            12897    12897\n",
       "unique         12326         156              650       27\n",
       "top     J. Rodríguez     England  Shonan Bellmare       GK\n",
       "freq               9        1368               30     1641"
      ]
     },
     "execution_count": 22,
     "metadata": {},
     "output_type": "execute_result"
    }
   ],
   "source": [
    "football.describe(include=['object'])"
   ]
  },
  {
   "cell_type": "code",
   "execution_count": 23,
   "metadata": {},
   "outputs": [
    {
     "data": {
      "text/plain": [
       "24.795378770256647"
      ]
     },
     "execution_count": 23,
     "metadata": {},
     "output_type": "execute_result"
    }
   ],
   "source": [
    "football['Age'].mean()"
   ]
  },
  {
   "cell_type": "code",
   "execution_count": 25,
   "metadata": {},
   "outputs": [
    {
     "name": "stdout",
     "output_type": "stream",
     "text": [
      "<class 'pandas.core.frame.DataFrame'>\n",
      "RangeIndex: 12897 entries, 0 to 12896\n",
      "Data columns (total 1 columns):\n",
      " #   Column     Non-Null Count  Dtype\n",
      "---  ------     --------------  -----\n",
      " 0   Composure  12897 non-null  int64\n",
      "dtypes: int64(1)\n",
      "memory usage: 100.9 KB\n"
     ]
    }
   ],
   "source": [
    "football[['Composure']].info()"
   ]
  },
  {
   "cell_type": "code",
   "execution_count": 26,
   "metadata": {},
   "outputs": [
    {
     "data": {
      "text/plain": [
       "count    12897.000000\n",
       "mean        56.026983\n",
       "std         14.740436\n",
       "min          7.000000\n",
       "25%         50.000000\n",
       "50%         60.000000\n",
       "75%         65.000000\n",
       "max         93.000000\n",
       "Name: ShortPassing, dtype: float64"
      ]
     },
     "execution_count": 26,
     "metadata": {},
     "output_type": "execute_result"
    }
   ],
   "source": [
    "football['ShortPassing'].describe()"
   ]
  },
  {
   "cell_type": "code",
   "execution_count": 28,
   "metadata": {},
   "outputs": [
    {
     "data": {
      "text/plain": [
       "96954000"
      ]
     },
     "execution_count": 28,
     "metadata": {},
     "output_type": "execute_result"
    }
   ],
   "source": [
    "football['Wage'].sum()"
   ]
  },
  {
   "cell_type": "code",
   "execution_count": 29,
   "metadata": {},
   "outputs": [
    {
     "data": {
      "text/plain": [
       "0"
      ]
     },
     "execution_count": 29,
     "metadata": {},
     "output_type": "execute_result"
    }
   ],
   "source": [
    "football['Value'].min()"
   ]
  },
  {
   "cell_type": "code",
   "execution_count": 30,
   "metadata": {},
   "outputs": [
    {
     "data": {
      "text/plain": [
       "7517.56222377297"
      ]
     },
     "execution_count": 30,
     "metadata": {},
     "output_type": "execute_result"
    }
   ],
   "source": [
    "football['Wage'].mean()"
   ]
  },
  {
   "cell_type": "code",
   "execution_count": 33,
   "metadata": {},
   "outputs": [
    {
     "data": {
      "text/plain": [
       "67.56638061585058"
      ]
     },
     "execution_count": 33,
     "metadata": {},
     "output_type": "execute_result"
    }
   ],
   "source": [
    "football[football['Wage'] > football['Wage'].mean()]['SprintSpeed'].mean()"
   ]
  },
  {
   "cell_type": "code",
   "execution_count": 34,
   "metadata": {},
   "outputs": [
    {
     "data": {
      "text/plain": [
       "62.41425430560645"
      ]
     },
     "execution_count": 34,
     "metadata": {},
     "output_type": "execute_result"
    }
   ],
   "source": [
    "football[football['Wage'] < football['Wage'].mean()]['SprintSpeed'].mean()"
   ]
  },
  {
   "cell_type": "code",
   "execution_count": 35,
   "metadata": {},
   "outputs": [
    {
     "data": {
      "text/plain": [
       "0    RF\n",
       "Name: Position, dtype: object"
      ]
     },
     "execution_count": 35,
     "metadata": {},
     "output_type": "execute_result"
    }
   ],
   "source": [
    "football[football['Wage'] == football['Wage'].max()]['Position']"
   ]
  },
  {
   "cell_type": "code",
   "execution_count": 37,
   "metadata": {},
   "outputs": [
    {
     "data": {
      "text/plain": [
       "22789"
      ]
     },
     "execution_count": 37,
     "metadata": {},
     "output_type": "execute_result"
    }
   ],
   "source": [
    "football[football['Nationality'] == 'Brazil']['Penalties'].sum()"
   ]
  },
  {
   "cell_type": "code",
   "execution_count": 38,
   "metadata": {},
   "outputs": [
    {
     "data": {
      "text/plain": [
       "25.58771113179944"
      ]
     },
     "execution_count": 38,
     "metadata": {},
     "output_type": "execute_result"
    }
   ],
   "source": [
    "football[football['HeadingAccuracy'] > 50 ]['Age'].mean()"
   ]
  },
  {
   "cell_type": "code",
   "execution_count": 39,
   "metadata": {},
   "outputs": [
    {
     "data": {
      "text/plain": [
       "16"
      ]
     },
     "execution_count": 39,
     "metadata": {},
     "output_type": "execute_result"
    }
   ],
   "source": [
    "football[(football['Composure'] > football['Composure'] * 0.9) & \n",
    "         (football['Reactions'] > football['Reactions'] * 0.9)]['Age'].min()"
   ]
  },
  {
   "cell_type": "code",
   "execution_count": 42,
   "metadata": {},
   "outputs": [
    {
     "data": {
      "text/plain": [
       "24"
      ]
     },
     "execution_count": 42,
     "metadata": {},
     "output_type": "execute_result"
    }
   ],
   "source": [
    "football[(football['Composure'] > football['Composure'].max() * 0.9) & \n",
    "         (football['Reactions'] > football['Reactions'].max() * 0.9)]['Age'].min()"
   ]
  },
  {
   "cell_type": "code",
   "execution_count": 49,
   "metadata": {},
   "outputs": [
    {
     "data": {
      "text/plain": [
       "22.642857142857146"
      ]
     },
     "execution_count": 49,
     "metadata": {},
     "output_type": "execute_result"
    }
   ],
   "source": [
    "football[football['Age'] == football['Age'].max()]['Reactions'].mean() -\\\n",
    "football[football['Age'] == football['Age'].min()]['Reactions'].mean()"
   ]
  },
  {
   "cell_type": "code",
   "execution_count": 56,
   "metadata": {},
   "outputs": [
    {
     "data": {
      "text/plain": [
       "Spain                211\n",
       "Brazil               130\n",
       "France               123\n",
       "Argentina            122\n",
       "England              113\n",
       "                    ... \n",
       "Equatorial Guinea      1\n",
       "Moldova                1\n",
       "Cuba                   1\n",
       "Honduras               1\n",
       "Armenia                1\n",
       "Name: Nationality, Length: 98, dtype: int64"
      ]
     },
     "execution_count": 56,
     "metadata": {},
     "output_type": "execute_result"
    }
   ],
   "source": [
    "football[football['Value'] > football['Value'].mean()]['Nationality'].value_counts()"
   ]
  },
  {
   "cell_type": "code",
   "execution_count": 62,
   "metadata": {},
   "outputs": [
    {
     "data": {
      "text/plain": [
       "2.765957446808511"
      ]
     },
     "execution_count": 62,
     "metadata": {},
     "output_type": "execute_result"
    }
   ],
   "source": [
    "football[(football['Position'] == 'GK') & (football['GKReflexes'] == football['GKReflexes'].max())]['Wage'].max() /\\\n",
    "football[(football['Position'] == 'GK') & (football['GKHandling'] == football['GKHandling'].max())]['Wage'].max()"
   ]
  },
  {
   "cell_type": "code",
   "execution_count": 65,
   "metadata": {},
   "outputs": [
    {
     "data": {
      "text/plain": [
       "2.076923076923077"
      ]
     },
     "execution_count": 65,
     "metadata": {},
     "output_type": "execute_result"
    }
   ],
   "source": [
    "football[football['Aggression'] == football['Aggression'].max()]['ShotPower'].mean() /\\\n",
    "football[football['Aggression'] == football['Aggression'].min()]['ShotPower'].mean()"
   ]
  },
  {
   "cell_type": "code",
   "execution_count": null,
   "metadata": {},
   "outputs": [],
   "source": []
  }
 ],
 "metadata": {
  "kernelspec": {
   "display_name": "Python 3",
   "language": "python",
   "name": "python3"
  },
  "language_info": {
   "codemirror_mode": {
    "name": "ipython",
    "version": 3
   },
   "file_extension": ".py",
   "mimetype": "text/x-python",
   "name": "python",
   "nbconvert_exporter": "python",
   "pygments_lexer": "ipython3",
   "version": "3.7.6"
  }
 },
 "nbformat": 4,
 "nbformat_minor": 4
}
