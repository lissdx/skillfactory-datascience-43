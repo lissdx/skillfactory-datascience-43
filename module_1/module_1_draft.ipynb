{
 "cells": [
  {
   "cell_type": "code",
   "execution_count": 1,
   "metadata": {
    "_cell_guid": "b1076dfc-b9ad-4769-8c92-a6c4dae69d19",
    "_uuid": "8f2839f25d086af736a60e9eeb907d3b93b6e0e5",
    "colab": {},
    "colab_type": "code",
    "id": "U2D2gTdJVp90"
   },
   "outputs": [],
   "source": [
    "import numpy as np\n",
    "import pandas as pd\n",
    "import seaborn as sns\n",
    "import matplotlib.pyplot as plt\n",
    "# from collections import Counter"
   ]
  },
  {
   "cell_type": "code",
   "execution_count": 2,
   "metadata": {
    "_cell_guid": "79c7e3d0-c299-4dcb-8224-4455121ee9b0",
    "_uuid": "d629ff2d2480ee46fbb7e2d37f6b5fab8052498a",
    "colab": {},
    "colab_type": "code",
    "id": "oyGfxL3eVp9-"
   },
   "outputs": [
    {
     "data": {
      "text/html": [
       "<div>\n",
       "<style scoped>\n",
       "    .dataframe tbody tr th:only-of-type {\n",
       "        vertical-align: middle;\n",
       "    }\n",
       "\n",
       "    .dataframe tbody tr th {\n",
       "        vertical-align: top;\n",
       "    }\n",
       "\n",
       "    .dataframe thead th {\n",
       "        text-align: right;\n",
       "    }\n",
       "</style>\n",
       "<table border=\"1\" class=\"dataframe\">\n",
       "  <thead>\n",
       "    <tr style=\"text-align: right;\">\n",
       "      <th></th>\n",
       "      <th>imdb_id</th>\n",
       "      <th>budget</th>\n",
       "      <th>revenue</th>\n",
       "      <th>original_title</th>\n",
       "      <th>cast</th>\n",
       "      <th>director</th>\n",
       "      <th>tagline</th>\n",
       "      <th>overview</th>\n",
       "      <th>runtime</th>\n",
       "      <th>genres</th>\n",
       "      <th>production_companies</th>\n",
       "      <th>release_date</th>\n",
       "      <th>vote_average</th>\n",
       "      <th>release_year</th>\n",
       "    </tr>\n",
       "  </thead>\n",
       "  <tbody>\n",
       "    <tr>\n",
       "      <th>1828</th>\n",
       "      <td>tt0164052</td>\n",
       "      <td>95000000</td>\n",
       "      <td>190213455</td>\n",
       "      <td>Hollow Man</td>\n",
       "      <td>Elisabeth Shue|Kevin Bacon|Josh Brolin|Kim Dic...</td>\n",
       "      <td>Paul Verhoeven</td>\n",
       "      <td>What would you do if you knew you couldn't be ...</td>\n",
       "      <td>Cocky researcher Sebastian Caine is working on...</td>\n",
       "      <td>112</td>\n",
       "      <td>Action|Science Fiction|Thriller</td>\n",
       "      <td>Columbia Pictures Corporation|Global Entertain...</td>\n",
       "      <td>8/4/2000</td>\n",
       "      <td>5.3</td>\n",
       "      <td>2000</td>\n",
       "    </tr>\n",
       "    <tr>\n",
       "      <th>85</th>\n",
       "      <td>tt1355683</td>\n",
       "      <td>53000000</td>\n",
       "      <td>99775678</td>\n",
       "      <td>Black Mass</td>\n",
       "      <td>Johnny Depp|Joel Edgerton|Benedict Cumberbatch...</td>\n",
       "      <td>Scott Cooper</td>\n",
       "      <td>Keep your enemies close.</td>\n",
       "      <td>The true story of Whitey Bulger, the brother o...</td>\n",
       "      <td>122</td>\n",
       "      <td>Crime|Drama</td>\n",
       "      <td>Infinitum Nihil|Head Gear Films|Cross Creek Pi...</td>\n",
       "      <td>9/4/2015</td>\n",
       "      <td>6.3</td>\n",
       "      <td>2015</td>\n",
       "    </tr>\n",
       "    <tr>\n",
       "      <th>1288</th>\n",
       "      <td>tt1821549</td>\n",
       "      <td>12000000</td>\n",
       "      <td>17654912</td>\n",
       "      <td>Nebraska</td>\n",
       "      <td>Bruce Dern|Will Forte|Bob Odenkirk|June Squibb...</td>\n",
       "      <td>Alexander Payne</td>\n",
       "      <td>Life's not about winning or losing. It's about...</td>\n",
       "      <td>An aging, booze-addled father takes a trip fro...</td>\n",
       "      <td>115</td>\n",
       "      <td>Drama|Adventure</td>\n",
       "      <td>Paramount Vantage|Bona Fide Productions</td>\n",
       "      <td>9/21/2013</td>\n",
       "      <td>7.3</td>\n",
       "      <td>2013</td>\n",
       "    </tr>\n",
       "    <tr>\n",
       "      <th>1495</th>\n",
       "      <td>tt0455590</td>\n",
       "      <td>6000000</td>\n",
       "      <td>48027970</td>\n",
       "      <td>The Last King of Scotland</td>\n",
       "      <td>Forest Whitaker|James McAvoy|Simon McBurney|Gi...</td>\n",
       "      <td>Kevin Macdonald</td>\n",
       "      <td>Charming. Magnetic. Murderous.</td>\n",
       "      <td>Young Scottish doctor, Nicholas Garrigan decid...</td>\n",
       "      <td>121</td>\n",
       "      <td>Drama</td>\n",
       "      <td>Fox Searchlight Pictures|Cowboy Films|DNA Film...</td>\n",
       "      <td>9/1/2006</td>\n",
       "      <td>7.3</td>\n",
       "      <td>2006</td>\n",
       "    </tr>\n",
       "    <tr>\n",
       "      <th>1103</th>\n",
       "      <td>tt0266465</td>\n",
       "      <td>36000000</td>\n",
       "      <td>44350926</td>\n",
       "      <td>A Man Apart</td>\n",
       "      <td>Vin Diesel|Larenz Tate|Timothy Olyphant|Geno S...</td>\n",
       "      <td>F. Gary Gray</td>\n",
       "      <td>Love changes a man. Revenge tears him apart.</td>\n",
       "      <td>When Vetter's wife is killed in a botched hit ...</td>\n",
       "      <td>109</td>\n",
       "      <td>Action|Drama</td>\n",
       "      <td>New Line Cinema|Newman/Tooley Films|Joseph Nit...</td>\n",
       "      <td>4/4/2003</td>\n",
       "      <td>5.7</td>\n",
       "      <td>2003</td>\n",
       "    </tr>\n",
       "  </tbody>\n",
       "</table>\n",
       "</div>"
      ],
      "text/plain": [
       "        imdb_id    budget    revenue             original_title  \\\n",
       "1828  tt0164052  95000000  190213455                 Hollow Man   \n",
       "85    tt1355683  53000000   99775678                 Black Mass   \n",
       "1288  tt1821549  12000000   17654912                   Nebraska   \n",
       "1495  tt0455590   6000000   48027970  The Last King of Scotland   \n",
       "1103  tt0266465  36000000   44350926                A Man Apart   \n",
       "\n",
       "                                                   cast         director  \\\n",
       "1828  Elisabeth Shue|Kevin Bacon|Josh Brolin|Kim Dic...   Paul Verhoeven   \n",
       "85    Johnny Depp|Joel Edgerton|Benedict Cumberbatch...     Scott Cooper   \n",
       "1288  Bruce Dern|Will Forte|Bob Odenkirk|June Squibb...  Alexander Payne   \n",
       "1495  Forest Whitaker|James McAvoy|Simon McBurney|Gi...  Kevin Macdonald   \n",
       "1103  Vin Diesel|Larenz Tate|Timothy Olyphant|Geno S...     F. Gary Gray   \n",
       "\n",
       "                                                tagline  \\\n",
       "1828  What would you do if you knew you couldn't be ...   \n",
       "85                             Keep your enemies close.   \n",
       "1288  Life's not about winning or losing. It's about...   \n",
       "1495                     Charming. Magnetic. Murderous.   \n",
       "1103       Love changes a man. Revenge tears him apart.   \n",
       "\n",
       "                                               overview  runtime  \\\n",
       "1828  Cocky researcher Sebastian Caine is working on...      112   \n",
       "85    The true story of Whitey Bulger, the brother o...      122   \n",
       "1288  An aging, booze-addled father takes a trip fro...      115   \n",
       "1495  Young Scottish doctor, Nicholas Garrigan decid...      121   \n",
       "1103  When Vetter's wife is killed in a botched hit ...      109   \n",
       "\n",
       "                               genres  \\\n",
       "1828  Action|Science Fiction|Thriller   \n",
       "85                        Crime|Drama   \n",
       "1288                  Drama|Adventure   \n",
       "1495                            Drama   \n",
       "1103                     Action|Drama   \n",
       "\n",
       "                                   production_companies release_date  \\\n",
       "1828  Columbia Pictures Corporation|Global Entertain...     8/4/2000   \n",
       "85    Infinitum Nihil|Head Gear Films|Cross Creek Pi...     9/4/2015   \n",
       "1288            Paramount Vantage|Bona Fide Productions    9/21/2013   \n",
       "1495  Fox Searchlight Pictures|Cowboy Films|DNA Film...     9/1/2006   \n",
       "1103  New Line Cinema|Newman/Tooley Films|Joseph Nit...     4/4/2003   \n",
       "\n",
       "      vote_average  release_year  \n",
       "1828           5.3          2000  \n",
       "85             6.3          2015  \n",
       "1288           7.3          2013  \n",
       "1495           7.3          2006  \n",
       "1103           5.7          2003  "
      ]
     },
     "execution_count": 2,
     "metadata": {},
     "output_type": "execute_result"
    }
   ],
   "source": [
    "data = pd.read_csv('movie_bd_v5.csv')\n",
    "data.sample(5)"
   ]
  },
  {
   "cell_type": "markdown",
   "metadata": {
    "colab_type": "text",
    "id": "DTIt7ezGVp-G"
   },
   "source": [
    "# Предобработка"
   ]
  },
  {
   "cell_type": "code",
   "execution_count": 13,
   "metadata": {
    "colab": {},
    "colab_type": "code",
    "id": "jNb40DwKVp-H"
   },
   "outputs": [],
   "source": [
    "from typing import List, Callable\n",
    "from collections import Counter\n",
    "\n",
    "answers = {} # создадим словарь для ответов\n",
    "# тут другие ваши предобработки колонок например:\n",
    "\n",
    "##\n",
    "# My functions here\n",
    "#\n",
    "\n",
    "# Create empty (None) Counter obj\n",
    "# just to reserve a place\n",
    "# the conter will be used below\n",
    "counter:Counter = None\n",
    "    \n",
    "def split_str_by_pipe(str_pipe: str) -> List[str]:\n",
    "    return split_str_by_char(str_pipe, '|')\n",
    "\n",
    "def split_str_by_char(str_ch: str, char: str) -> List[str]:\n",
    "    \"\"\"\n",
    "    Split the str_pipe (pipe's delimeted string) and return\n",
    "    list of trimed string    \n",
    "    \"\"\"\n",
    "    if str_ch is not None and len(str_ch) > 0:\n",
    "        return [ s.strip('\\n\\r\\t ') for s in str_ch.split(char)]\n",
    "\n",
    "    return []\n",
    "#     def transform_row(r):\n",
    "#     r.animal = 'wild ' + r.type\n",
    "#     r.type = r.animal + ' creature'\n",
    "#     r.age = \"{} year{}\".format(r.age, r.age > 1 and 's' or '')\n",
    "#     return r\n",
    "\n",
    "# df.apply(transform_row, axis=1)\n",
    "# def modify_row(row, field_name, func: Callable):\n",
    "#     print(row[field_name])\n",
    "#     coumn_names = func(str(row[field_name]))\n",
    "#     for c in coumn_names:\n",
    "#         row[c] = 1\n",
    "\n",
    "    \n",
    "# def fill_conter(str_pipe: str, func: Callable, counter:Counter):\n",
    "#     counter.update(func(str_pipe))\n",
    "    \n",
    "\n",
    "#the time given in the dataset is in string format.\n",
    "#So we need to change this in datetime format\n",
    "# ...\n",
    "\n",
    "# 1.\n",
    "# Create profit_data DF with special 'profit' column \n",
    "profit_data = data.copy()\n",
    "profit_data['profit'] = profit_data[['revenue','budget']] \\\n",
    "                        .apply(lambda row: row['revenue'] - row['budget'], axis=1 )"
   ]
  },
  {
   "cell_type": "code",
   "execution_count": 4,
   "metadata": {},
   "outputs": [],
   "source": [
    "## Test\n",
    "##\n",
    "\n",
    "# c = Counter()\n",
    "\n",
    "# fill_conter('Saoirse Ronan|Diane Kruger|Jake Abel|William H', split_str_by_pipe, c)\n",
    "# fill_conter('Saoirse Ronan|Diane Kruger|Jake Abel|William H', split_str_by_pipe, c)\n",
    "# fill_conter('Bradley Cooper|Ed Helms|Zach Galifianakis|Just', split_str_by_pipe, c)\n",
    "\n",
    "# list(c)"
   ]
  },
  {
   "cell_type": "markdown",
   "metadata": {
    "colab_type": "text",
    "id": "YxZaH-nPVp-L"
   },
   "source": [
    "# 1. У какого фильма из списка самый большой бюджет?"
   ]
  },
  {
   "cell_type": "markdown",
   "metadata": {
    "colab_type": "text",
    "id": "Nd-G5gX6Vp-M"
   },
   "source": [
    "Использовать варианты ответов в коде решения запрещено.    \n",
    "Вы думаете и в жизни у вас будут варианты ответов?)"
   ]
  },
  {
   "cell_type": "code",
   "execution_count": 5,
   "metadata": {
    "colab": {},
    "colab_type": "code",
    "id": "uVnXAY5RVp-O"
   },
   "outputs": [],
   "source": [
    "# в словарь вставляем номер вопроса и ваш ответ на него\n",
    "# Пример: \n",
    "answers['1'] = '2. Spider-Man 3 (tt0413300)'\n",
    "# запишите свой вариант ответа\n",
    "answers['1'] = '...'\n",
    "# если ответили верно, можете добавить комментарий со значком \"+\""
   ]
  },
  {
   "cell_type": "code",
   "execution_count": 6,
   "metadata": {
    "colab": {},
    "colab_type": "code",
    "id": "dZwb3m28Vp-S"
   },
   "outputs": [
    {
     "data": {
      "text/plain": [
       "'Pirates of the Caribbean: On Stranger Tides'"
      ]
     },
     "execution_count": 6,
     "metadata": {},
     "output_type": "execute_result"
    }
   ],
   "source": [
    "# тут пишем ваш код для решения данного вопроса:\n",
    "answers['1'] = data[data['budget']==data['budget'].max()]['original_title'].values[0]\n",
    "answers['1']"
   ]
  },
  {
   "cell_type": "markdown",
   "metadata": {
    "colab_type": "text",
    "id": "K7L3nbRXVp-X"
   },
   "source": [
    "ВАРИАНТ 2"
   ]
  },
  {
   "cell_type": "code",
   "execution_count": 7,
   "metadata": {
    "colab": {},
    "colab_type": "code",
    "id": "OGaoQI7rVp-X"
   },
   "outputs": [
    {
     "data": {
      "text/plain": [
       "'Pirates of the Caribbean: On Stranger Tides'"
      ]
     },
     "execution_count": 7,
     "metadata": {},
     "output_type": "execute_result"
    }
   ],
   "source": [
    "# можно добавлять разные варианты решения\n",
    "answers['1'] = data.loc[data['budget'].idxmax()]['original_title']\n",
    "answers['1'] "
   ]
  },
  {
   "cell_type": "markdown",
   "metadata": {
    "colab_type": "text",
    "id": "FNRbbI3vVp-c"
   },
   "source": [
    "# 2. Какой из фильмов самый длительный (в минутах)?"
   ]
  },
  {
   "cell_type": "code",
   "execution_count": 8,
   "metadata": {
    "colab": {},
    "colab_type": "code",
    "id": "vHAoEXNTVp-d"
   },
   "outputs": [
    {
     "data": {
      "text/plain": [
       "'Gods and Generals'"
      ]
     },
     "execution_count": 8,
     "metadata": {},
     "output_type": "execute_result"
    }
   ],
   "source": [
    "# думаю логику работы с этим словарем вы уже поняли, \n",
    "# по этому не буду больше его дублировать\n",
    "answers['2'] = data.loc[data['runtime'].idxmax()]['original_title']\n",
    "answers['2']"
   ]
  },
  {
   "cell_type": "code",
   "execution_count": 9,
   "metadata": {
    "colab": {},
    "colab_type": "code",
    "id": "ot-VX2XrVp-g"
   },
   "outputs": [
    {
     "data": {
      "text/plain": [
       "'Gods and Generals'"
      ]
     },
     "execution_count": 9,
     "metadata": {},
     "output_type": "execute_result"
    }
   ],
   "source": [
    "answers['2'] = data.sort_values('runtime', ascending=False).iloc[0]['original_title']\n",
    "answers['2']"
   ]
  },
  {
   "cell_type": "markdown",
   "metadata": {
    "colab_type": "text",
    "id": "bapLlpW8Vp-k"
   },
   "source": [
    "# 3. Какой из фильмов самый короткий (в минутах)?\n",
    "\n",
    "\n",
    "\n"
   ]
  },
  {
   "cell_type": "code",
   "execution_count": 10,
   "metadata": {
    "colab": {},
    "colab_type": "code",
    "id": "YBxaSHuAVp-l"
   },
   "outputs": [
    {
     "data": {
      "text/plain": [
       "'Winnie the Pooh'"
      ]
     },
     "execution_count": 10,
     "metadata": {},
     "output_type": "execute_result"
    }
   ],
   "source": [
    "answers['3'] = data.loc[data['runtime'].idxmin()]['original_title']\n",
    "answers['3']"
   ]
  },
  {
   "cell_type": "markdown",
   "metadata": {
    "colab_type": "text",
    "id": "TfQbxbfNVp-p"
   },
   "source": [
    "# 4. Какова средняя длительность фильмов?\n"
   ]
  },
  {
   "cell_type": "code",
   "execution_count": 11,
   "metadata": {
    "colab": {},
    "colab_type": "code",
    "id": "5K6dKZYVVp-q"
   },
   "outputs": [
    {
     "data": {
      "text/plain": [
       "109.6585494970884"
      ]
     },
     "execution_count": 11,
     "metadata": {},
     "output_type": "execute_result"
    }
   ],
   "source": [
    "answers['4'] = data['runtime'].mean()\n",
    "answers['4']"
   ]
  },
  {
   "cell_type": "markdown",
   "metadata": {
    "colab_type": "text",
    "id": "r5TvbnT_Vp-u"
   },
   "source": [
    "# 5. Каково медианное значение длительности фильмов? "
   ]
  },
  {
   "cell_type": "code",
   "execution_count": 12,
   "metadata": {
    "colab": {},
    "colab_type": "code",
    "id": "iBROplKnVp-v"
   },
   "outputs": [
    {
     "data": {
      "text/plain": [
       "107.0"
      ]
     },
     "execution_count": 12,
     "metadata": {},
     "output_type": "execute_result"
    }
   ],
   "source": [
    "answers['5'] = data['runtime'].median()\n",
    "answers['5']"
   ]
  },
  {
   "cell_type": "markdown",
   "metadata": {
    "colab_type": "text",
    "id": "39P-deDSVp-y"
   },
   "source": [
    "# 6. Какой самый прибыльный фильм?\n",
    "#### Внимание! Здесь и далее под «прибылью» или «убытками» понимается разность между сборами и бюджетом фильма. (прибыль = сборы - бюджет) в нашем датасете это будет (profit = revenue - budget) "
   ]
  },
  {
   "cell_type": "code",
   "execution_count": 15,
   "metadata": {
    "colab": {},
    "colab_type": "code",
    "id": "UYZh4T9WVp-y"
   },
   "outputs": [
    {
     "data": {
      "text/plain": [
       "'Avatar'"
      ]
     },
     "execution_count": 15,
     "metadata": {},
     "output_type": "execute_result"
    }
   ],
   "source": [
    "# лучше код получения столбца profit вынести в Предобработку что в начале\n",
    "# see above data['profit'] = data[['revenue','budget']].apply(lambda row: row['revenue'] - row['budget'], axis=1 )\n",
    "answers['6'] = profit_data.loc[profit_data['profit'].idxmax()]['original_title']\n",
    "answers['6']"
   ]
  },
  {
   "cell_type": "markdown",
   "metadata": {
    "colab_type": "text",
    "id": "M99JmIX4Vp-2"
   },
   "source": [
    "# 7. Какой фильм самый убыточный? "
   ]
  },
  {
   "cell_type": "code",
   "execution_count": 16,
   "metadata": {
    "colab": {},
    "colab_type": "code",
    "id": "w-D2m4XPVp-3"
   },
   "outputs": [
    {
     "data": {
      "text/plain": [
       "'The Lone Ranger'"
      ]
     },
     "execution_count": 16,
     "metadata": {},
     "output_type": "execute_result"
    }
   ],
   "source": [
    "answers['7'] = profit_data.loc[profit_data['profit'].idxmin()]['original_title']\n",
    "answers['7']"
   ]
  },
  {
   "cell_type": "markdown",
   "metadata": {
    "colab_type": "text",
    "id": "wEOM5ERVVp-6"
   },
   "source": [
    "# 8. У скольких фильмов из датасета объем сборов оказался выше бюджета?"
   ]
  },
  {
   "cell_type": "code",
   "execution_count": 17,
   "metadata": {
    "colab": {},
    "colab_type": "code",
    "id": "y00_7HD6Vp-7"
   },
   "outputs": [
    {
     "data": {
      "text/plain": [
       "1478"
      ]
     },
     "execution_count": 17,
     "metadata": {},
     "output_type": "execute_result"
    }
   ],
   "source": [
    "answers['8'] = profit_data[profit_data['profit'] > 0 ].shape[0]\n",
    "answers['8']"
   ]
  },
  {
   "cell_type": "markdown",
   "metadata": {
    "colab_type": "text",
    "id": "xhpspA9KVp_A"
   },
   "source": [
    "# 9. Какой фильм оказался самым кассовым в 2008 году?"
   ]
  },
  {
   "cell_type": "code",
   "execution_count": 18,
   "metadata": {
    "colab": {},
    "colab_type": "code",
    "id": "MoUyQr9RVp_B"
   },
   "outputs": [
    {
     "data": {
      "text/plain": [
       "'The Dark Knight'"
      ]
     },
     "execution_count": 18,
     "metadata": {},
     "output_type": "execute_result"
    }
   ],
   "source": [
    "answers['9'] = profit_data.loc[profit_data[profit_data['release_year'] == 2008 ]['profit'].idxmax()]['original_title']\n",
    "answers['9']"
   ]
  },
  {
   "cell_type": "markdown",
   "metadata": {
    "colab_type": "text",
    "id": "Zi4hDKidVp_F"
   },
   "source": [
    "# 10. Самый убыточный фильм за период с 2012 по 2014 г. (включительно)?\n"
   ]
  },
  {
   "cell_type": "code",
   "execution_count": null,
   "metadata": {},
   "outputs": [],
   "source": [
    "answers['10'] = data.loc[data[data['release_year'].between(2012, 2014, inclusive=True)]['profit'].idxmin()]['original_title']\n",
    "answers['10']"
   ]
  },
  {
   "cell_type": "markdown",
   "metadata": {
    "colab_type": "text",
    "id": "EA7Sa9dkVp_I"
   },
   "source": [
    "# 11. Какого жанра фильмов больше всего?"
   ]
  },
  {
   "cell_type": "code",
   "execution_count": null,
   "metadata": {
    "colab": {},
    "colab_type": "code",
    "id": "zsJAwJ8QVp_J"
   },
   "outputs": [],
   "source": [
    "# эту задачу тоже можно решать разными подходами, попробуй реализовать разные варианты\n",
    "# если будешь добавлять функцию - выноси ее в предобработку что в начале\n",
    "\n",
    "# Step 1 create counter and get\n",
    "# the most common element\n",
    "ganre_counter = Counter()\n",
    "\n",
    "data['genres'].apply(lambda g: fill_conter(str(g), split_str_by_pipe, ganre_counter))\n",
    "\n",
    "ganre_counter.most_common(1)"
   ]
  },
  {
   "cell_type": "markdown",
   "metadata": {
    "colab_type": "text",
    "id": "Ax6g2C8SVp_M"
   },
   "source": [
    "ВАРИАНТ 2"
   ]
  },
  {
   "cell_type": "code",
   "execution_count": null,
   "metadata": {
    "colab": {},
    "colab_type": "code",
    "id": "otO3SbrSVp_N"
   },
   "outputs": [],
   "source": [
    "# step 1 copy exist DF\n",
    "ganre_data = data.copy()\n",
    "\n",
    "# step 2 update df with 'ganre' columns\n",
    "# if ganre is found set value 1 \n",
    "for g in list(ganre_counter):\n",
    "    ganre_data[g] = ganre_data['genres'].apply(lambda c: 1 if g in split_str_by_pipe(str(c)) else 0)\n",
    "    \n",
    "ganre_data[list(ganre_counter)].sum().idxmax()"
   ]
  },
  {
   "cell_type": "markdown",
   "metadata": {},
   "source": [
    "ВАРИАНТ 3"
   ]
  },
  {
   "cell_type": "code",
   "execution_count": null,
   "metadata": {},
   "outputs": [],
   "source": [
    "# step 1 copy exist DF\n",
    "ganre_data = data.copy()\n",
    "# prepere for explode\n",
    "ganre_data['list_genre'] = ganre_data['genres'].apply(lambda c: split_str_by_pipe(str(c)))\n",
    "# calculate\n",
    "ganre_data.explode('list_genre')['list_genre'].value_counts().idxmax()"
   ]
  },
  {
   "cell_type": "markdown",
   "metadata": {
    "colab_type": "text",
    "id": "T9_bPWpkVp_Q"
   },
   "source": [
    "# 12. Фильмы какого жанра чаще всего становятся прибыльными? "
   ]
  },
  {
   "cell_type": "code",
   "execution_count": null,
   "metadata": {},
   "outputs": [],
   "source": [
    "# step 1 copy exist DF\n",
    "ganre_data = data.copy()\n",
    "\n",
    "# step 2 update df with 'ganre' columns\n",
    "# if ganre is found set value 1 \n",
    "for g in list(ganre_counter):\n",
    "    ganre_data[g] = ganre_data['genres'].apply(lambda c: 1 if g in split_str_by_pipe(str(c)) else 0)\n",
    "    \n",
    "ganre_data[ganre_data['profit']>0][list(ganre_counter)].sum().idxmax()"
   ]
  },
  {
   "cell_type": "code",
   "execution_count": null,
   "metadata": {
    "colab": {},
    "colab_type": "code",
    "id": "Tmt8MaK1Vp_R"
   },
   "outputs": [],
   "source": [
    "# step 1 copy exist DF\n",
    "ganre_data = data.copy()\n",
    "# prepere for explode\n",
    "ganre_data['list_genre'] = ganre_data['genres'].apply(lambda c: split_str_by_pipe(str(c)))\n",
    "# calculate\n",
    "ganre_data = ganre_data.explode('list_genre')\n",
    "ganre_data[ganre_data['profit'] > 0]['list_genre'].value_counts().idxmax()"
   ]
  },
  {
   "cell_type": "markdown",
   "metadata": {
    "colab_type": "text",
    "id": "0F23bgsDVp_U"
   },
   "source": [
    "# 13. У какого режиссера самые большие суммарные кассовые сбооры?"
   ]
  },
  {
   "cell_type": "code",
   "execution_count": null,
   "metadata": {},
   "outputs": [],
   "source": [
    "# step 1 copy exist DF\n",
    "director_data = data.copy()\n",
    "# prepere for explode\n",
    "director_data['list_director'] = director_data['director'].apply(lambda c: split_str_by_pipe(str(c)))\n",
    "# calculate\n",
    "director_data.explode('list_director').groupby('list_director')['revenue'].apply(sum).idxmax()"
   ]
  },
  {
   "cell_type": "markdown",
   "metadata": {
    "colab_type": "text",
    "id": "PsYC9FgRVp_a"
   },
   "source": [
    "# 14. Какой режисер снял больше всего фильмов в стиле Action?"
   ]
  },
  {
   "cell_type": "code",
   "execution_count": null,
   "metadata": {
    "colab": {},
    "colab_type": "code",
    "id": "wd2M-wHeVp_b"
   },
   "outputs": [],
   "source": [
    "# step 1 copy exist DF\n",
    "director_ganre_data = data.copy()\n",
    "# prepere for explode\n",
    "director_ganre_data['list_director'] = director_ganre_data['director'].apply(lambda c: split_str_by_pipe(str(c)))\n",
    "director_ganre_data['list_genre'] = director_ganre_data['genres'].apply(lambda c: split_str_by_pipe(str(c)))\n",
    "\n",
    "director_ganre_data = director_ganre_data.explode('list_director').explode('list_genre')\n",
    "\n",
    "director_ganre_data[director_ganre_data['list_genre']=='Action']['list_director'].value_counts().idxmax()"
   ]
  },
  {
   "cell_type": "markdown",
   "metadata": {
    "colab_type": "text",
    "id": "PQ0KciD7Vp_f"
   },
   "source": [
    "# 15. Фильмы с каким актером принесли самые высокие кассовые сборы в 2012 году? "
   ]
  },
  {
   "cell_type": "code",
   "execution_count": null,
   "metadata": {
    "colab": {},
    "colab_type": "code",
    "id": "aga62oeKVp_g"
   },
   "outputs": [],
   "source": [
    "# step 1 copy exist DF\n",
    "cast_data = data.copy()\n",
    "cast_data['list_cast'] = cast_data['cast'].apply(lambda c: split_str_by_pipe(str(c)))\n",
    "cast_data = cast_data.explode('list_cast')\n",
    "# cats_data\n",
    "cast_data[cast_data['release_year']==2012].groupby('list_cast')['revenue'].apply(sum).idxmax()"
   ]
  },
  {
   "cell_type": "markdown",
   "metadata": {
    "colab_type": "text",
    "id": "mWHyyL7QVp_j"
   },
   "source": [
    "# 16. Какой актер снялся в большем количестве высокобюджетных фильмов?"
   ]
  },
  {
   "cell_type": "code",
   "execution_count": null,
   "metadata": {
    "colab": {},
    "colab_type": "code",
    "id": "qQtmHKTFVp_k"
   },
   "outputs": [],
   "source": [
    "# step 1 copy exist DF\n",
    "cast_data = data.copy()\n",
    "cast_data['list_cast'] = cast_data['cast'].apply(lambda c: split_str_by_pipe(str(c)))\n",
    "cast_data = cast_data.explode('list_cast')\n",
    "# cats_data\n",
    "cast_data[cast_data['budget'] > cast_data['budget'].mean()]['list_cast'].value_counts().idxmax()"
   ]
  },
  {
   "cell_type": "markdown",
   "metadata": {
    "colab_type": "text",
    "id": "NIh6AaW5Vp_n"
   },
   "source": [
    "# 17. В фильмах какого жанра больше всего снимался Nicolas Cage? "
   ]
  },
  {
   "cell_type": "code",
   "execution_count": null,
   "metadata": {
    "colab": {},
    "colab_type": "code",
    "id": "H74SJDIBVp_n"
   },
   "outputs": [],
   "source": [
    "cast_ganre_data = data.copy()\n",
    "\n",
    "cast_ganre_data['list_cast'] = cast_ganre_data['cast'].apply(lambda c: split_str_by_pipe(str(c)))\n",
    "cast_ganre_data['list_genre'] = cast_ganre_data['genres'].apply(lambda c: split_str_by_pipe(str(c)))\n",
    "\n",
    "cast_ganre_data = cast_ganre_data.explode('list_cast').explode('list_genre')\n",
    "\n",
    "cast_ganre_data[cast_ganre_data['list_cast']=='Nicolas Cage']['list_genre'].value_counts().idxmax()"
   ]
  },
  {
   "cell_type": "markdown",
   "metadata": {
    "colab_type": "text",
    "id": "RqOmPRfWVp_q"
   },
   "source": [
    "# 18. Самый убыточный фильм от Paramount Pictures"
   ]
  },
  {
   "cell_type": "code",
   "execution_count": null,
   "metadata": {
    "colab": {},
    "colab_type": "code",
    "id": "9E_B0Y96Vp_r"
   },
   "outputs": [],
   "source": [
    "production_companies_data = data.copy()\n",
    "production_companies_data['list_companies'] = production_companies_data['production_companies'].apply(lambda c: split_str_by_pipe(str(c)))\n",
    "\n",
    "production_companies_data = production_companies_data.explode('list_companies')\n",
    "\n",
    "production_companies_data[(production_companies_data['list_companies']=='Paramount Pictures')]. \\\n",
    "sort_values('profit', ascending=True). \\\n",
    "iloc[0]['original_title']\n"
   ]
  },
  {
   "cell_type": "markdown",
   "metadata": {
    "colab_type": "text",
    "id": "vS8Ur6ddVp_u"
   },
   "source": [
    "# 19. Какой год стал самым успешным по суммарным кассовым сборам?"
   ]
  },
  {
   "cell_type": "code",
   "execution_count": null,
   "metadata": {
    "colab": {},
    "colab_type": "code",
    "id": "Dnbt4GdIVp_v"
   },
   "outputs": [],
   "source": [
    "data.groupby('release_year')['revenue'].apply(sum).idxmax()"
   ]
  },
  {
   "cell_type": "markdown",
   "metadata": {
    "colab_type": "text",
    "id": "JAzJh4QAVp_z"
   },
   "source": [
    "# 20. Какой самый прибыльный год для студии Warner Bros?"
   ]
  },
  {
   "cell_type": "code",
   "execution_count": null,
   "metadata": {
    "colab": {},
    "colab_type": "code",
    "id": "wgVu02DEVp_0"
   },
   "outputs": [],
   "source": [
    "production_companies_data = data.copy()\n",
    "production_companies_data['list_companies'] = production_companies_data['production_companies'].apply(lambda c: split_str_by_pipe(str(c)))\n",
    "\n",
    "production_companies_data = production_companies_data.explode('list_companies')\n",
    "# production_companies_data\n",
    "production_companies_data[(production_companies_data['list_companies'].str.startswith('Warner Bros'))]. \\\n",
    "groupby('release_year')['profit'].apply(sum).idxmax()\n"
   ]
  },
  {
   "cell_type": "markdown",
   "metadata": {
    "colab_type": "text",
    "id": "8Im1S2HRVp_4"
   },
   "source": [
    "# 21. В каком месяце за все годы суммарно вышло больше всего фильмов?"
   ]
  },
  {
   "cell_type": "code",
   "execution_count": null,
   "metadata": {
    "colab": {},
    "colab_type": "code",
    "id": "lev6TH7gVp_4"
   },
   "outputs": [],
   "source": [
    "month_data = data.copy()\n",
    "month_data['month'] = month_data['release_date'].apply(lambda c: int(split_str_by_char(str(c),'/')[0]))\n",
    "month_data.groupby('month')['original_title'].nunique().idxmax()"
   ]
  },
  {
   "cell_type": "markdown",
   "metadata": {
    "colab_type": "text",
    "id": "uAJsZ_NeVp_7"
   },
   "source": [
    "# 22. Сколько суммарно вышло фильмов летом? (за июнь, июль, август)"
   ]
  },
  {
   "cell_type": "code",
   "execution_count": null,
   "metadata": {
    "colab": {},
    "colab_type": "code",
    "id": "Aa-hEREoVp_8"
   },
   "outputs": [],
   "source": [
    "month_data = data.copy()\n",
    "month_data['month'] = month_data['release_date'].apply(lambda c: int(split_str_by_char(str(c),'/')[0]))\n",
    "month_data[month_data['month'].isin([6,7,8])].shape[0]"
   ]
  },
  {
   "cell_type": "markdown",
   "metadata": {
    "colab_type": "text",
    "id": "G94ppOY1VqAA"
   },
   "source": [
    "# 23. Для какого режиссера зима – самое продуктивное время года? "
   ]
  },
  {
   "cell_type": "code",
   "execution_count": null,
   "metadata": {
    "colab": {},
    "colab_type": "code",
    "id": "RhNTsamuVqAB"
   },
   "outputs": [],
   "source": [
    "month_director_data = data.copy()\n",
    "month_director_data['list_director'] = month_director_data['director'].apply(lambda c: split_str_by_pipe(str(c)))\n",
    "month_director_data = month_director_data.explode('list_director')\n",
    "month_director_data['month'] = month_data['release_date'].apply(lambda c: int(split_str_by_char(str(c),'/')[0]))\n",
    "month_director_data = month_director_data[month_director_data['month'].isin([1,2,12])]\n",
    "month_director_data['list_director'].value_counts().idxmax()"
   ]
  },
  {
   "cell_type": "markdown",
   "metadata": {
    "colab_type": "text",
    "id": "RBo0JVjVVqAF"
   },
   "source": [
    "# 24. Какая студия дает самые длинные названия своим фильмам по количеству символов?"
   ]
  },
  {
   "cell_type": "code",
   "execution_count": null,
   "metadata": {
    "colab": {},
    "colab_type": "code",
    "id": "QRGS8L0iVqAG"
   },
   "outputs": [],
   "source": [
    "# OK\n",
    "#original_title\n",
    "title_data = data.copy()\n",
    "title_data['title_lenght'] = title_data['original_title'].apply(lambda c: len(str(c)))\n",
    "title_data['list_companies'] = title_data['production_companies'].apply(lambda c: split_str_by_pipe(str(c)))\n",
    "title_data = title_data.explode('list_companies')\n",
    "title_data.groupby('list_companies')['title_lenght'].mean().idxmax()\n",
    "# title_data[title_data['title_lenght'] > title_data['title_lenght'].mean()]['list_companies'].value_counts().idxmax()"
   ]
  },
  {
   "cell_type": "markdown",
   "metadata": {
    "colab_type": "text",
    "id": "9G0hbvR7VqAK"
   },
   "source": [
    "# 25. Описание фильмов какой студии в среднем самые длинные по количеству слов?"
   ]
  },
  {
   "cell_type": "code",
   "execution_count": null,
   "metadata": {
    "colab": {},
    "colab_type": "code",
    "id": "Ge2GsLNxVqAK"
   },
   "outputs": [],
   "source": [
    "# OK\n",
    "# overview\n",
    "tagline_data = None\n",
    "overview_data = data.copy()\n",
    "overview_data['overview_words_cnt'] = overview_data['overview'].apply(lambda c: len(split_str_by_char(str(c), ' ')))\n",
    "overview_data['list_companies'] = overview_data['production_companies'].apply(lambda c: split_str_by_pipe(str(c)))\n",
    "overview_data = overview_data.explode('list_companies')\n",
    "overview_data.groupby('list_companies')['overview_words_cnt'].mean().idxmax()\n",
    "# tagline_data[tagline_data['title_words'] > tagline_data['title_words'].mean()]['list_companies'].value_counts().idxmax()\n"
   ]
  },
  {
   "cell_type": "markdown",
   "metadata": {
    "colab_type": "text",
    "id": "FJ1AFt90VqAP"
   },
   "source": [
    "# 26. Какие фильмы входят в 1 процент лучших по рейтингу? "
   ]
  },
  {
   "cell_type": "code",
   "execution_count": null,
   "metadata": {
    "colab": {},
    "colab_type": "code",
    "id": "8qmJVq4CVqAQ"
   },
   "outputs": [],
   "source": [
    "# OK\n",
    "# vote_average\n",
    "# data[data['vote_average'] >= data['vote_average'].quantile(0.99)] \\\n",
    "# .sort_values('vote_average', ascending=False)[['original_title']] \\\n",
    "# .head(10)"
   ]
  },
  {
   "cell_type": "markdown",
   "metadata": {
    "colab_type": "text",
    "id": "MdXsUXbCVqAV"
   },
   "source": [
    "# 27. Какие актеры чаще всего снимаются в одном фильме вместе?\n"
   ]
  },
  {
   "cell_type": "markdown",
   "metadata": {
    "colab_type": "text",
    "id": "4ymnxEVoVqAW"
   },
   "source": [
    "ВАРИАНТ 2"
   ]
  },
  {
   "cell_type": "code",
   "execution_count": null,
   "metadata": {},
   "outputs": [],
   "source": [
    "# OK\n",
    "import itertools\n",
    "data27=pd.read_csv('movie_bd_v5.csv')\n",
    "data27['cast'] = data27['cast'].str.split('|')\n",
    "data_p = data27['cast'].reset_index()\n",
    "data_p['pairs'] = data_p['cast'].apply(lambda s: list(itertools.combinations(s, 2)))\n",
    "data_p\n",
    "data_p = data_p.explode('pairs').reset_index()\n",
    "Counter(data_p['pairs']).most_common(1)"
   ]
  },
  {
   "cell_type": "code",
   "execution_count": null,
   "metadata": {},
   "outputs": [],
   "source": [
    "# # step 1 copy exist DF\n",
    "# cast_data = data.copy()\n",
    "# cast_data['list_cast'] = cast_data['cast'].apply(lambda c: split_str_by_pipe(str(c)))\n",
    "# cast_data = cast_data.explode('list_cast')\n",
    "# # cats_data\n",
    "# # cast_data[cast_data['budget'] > cast_data['budget'].mean()]['list_cast'].value_counts().idxmax()\n",
    "# cast_data"
   ]
  },
  {
   "cell_type": "markdown",
   "metadata": {
    "colab_type": "text",
    "id": "U0nONFnGVqAX"
   },
   "source": [
    "# Submission"
   ]
  },
  {
   "cell_type": "code",
   "execution_count": null,
   "metadata": {
    "colab": {},
    "colab_type": "code",
    "id": "IfcaRO9-VqAX",
    "outputId": "0f132912-32bb-4196-c98c-abfbc4ad5a5f"
   },
   "outputs": [],
   "source": [
    "# в конце можно посмотреть свои ответы к каждому вопросу\n",
    "answers"
   ]
  },
  {
   "cell_type": "code",
   "execution_count": null,
   "metadata": {
    "colab": {},
    "colab_type": "code",
    "id": "SiRmHPl8VqAd"
   },
   "outputs": [],
   "source": [
    "# и убедиться что ни чего не пропустил)\n",
    "len(answers)"
   ]
  },
  {
   "cell_type": "code",
   "execution_count": 11,
   "metadata": {
    "colab": {},
    "colab_type": "code",
    "id": "uCfuTkRbVqAg"
   },
   "outputs": [
    {
     "name": "stdout",
     "output_type": "stream",
     "text": [
      "total 0\r\n",
      "drwxr-xr-x   2 lissdx  staff   64 Nov  7 11:59 \u001b[34m.\u001b[m\u001b[m/\r\n",
      "drwxr-xr-x  10 lissdx  staff  320 Nov  7 11:59 \u001b[34m..\u001b[m\u001b[m/\r\n"
     ]
    }
   ],
   "source": [
    "ls -al"
   ]
  },
  {
   "cell_type": "code",
   "execution_count": null,
   "metadata": {},
   "outputs": [],
   "source": []
  },
  {
   "cell_type": "code",
   "execution_count": null,
   "metadata": {
    "colab": {},
    "colab_type": "code",
    "id": "Vwx3NrkSVqAl"
   },
   "outputs": [],
   "source": []
  }
 ],
 "metadata": {
  "colab": {
   "name": "Copy of [SF-DST] Movies IMBD v4.1 TEMPLATE.ipynb",
   "provenance": []
  },
  "kernelspec": {
   "display_name": "Python 3",
   "language": "python",
   "name": "python3"
  },
  "language_info": {
   "codemirror_mode": {
    "name": "ipython",
    "version": 3
   },
   "file_extension": ".py",
   "mimetype": "text/x-python",
   "name": "python",
   "nbconvert_exporter": "python",
   "pygments_lexer": "ipython3",
   "version": "3.7.6"
  }
 },
 "nbformat": 4,
 "nbformat_minor": 1
}
