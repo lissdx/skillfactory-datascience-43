{
 "cells": [
  {
   "cell_type": "code",
   "execution_count": 1,
   "metadata": {
    "_cell_guid": "b1076dfc-b9ad-4769-8c92-a6c4dae69d19",
    "_uuid": "8f2839f25d086af736a60e9eeb907d3b93b6e0e5",
    "colab": {},
    "colab_type": "code",
    "id": "U2D2gTdJVp90"
   },
   "outputs": [],
   "source": [
    "import numpy as np\n",
    "import pandas as pd\n",
    "import seaborn as sns\n",
    "import matplotlib.pyplot as plt\n",
    "import itertools"
   ]
  },
  {
   "cell_type": "code",
   "execution_count": 2,
   "metadata": {
    "_cell_guid": "79c7e3d0-c299-4dcb-8224-4455121ee9b0",
    "_uuid": "d629ff2d2480ee46fbb7e2d37f6b5fab8052498a",
    "colab": {},
    "colab_type": "code",
    "id": "oyGfxL3eVp9-"
   },
   "outputs": [
    {
     "data": {
      "text/html": [
       "<div>\n",
       "<style scoped>\n",
       "    .dataframe tbody tr th:only-of-type {\n",
       "        vertical-align: middle;\n",
       "    }\n",
       "\n",
       "    .dataframe tbody tr th {\n",
       "        vertical-align: top;\n",
       "    }\n",
       "\n",
       "    .dataframe thead th {\n",
       "        text-align: right;\n",
       "    }\n",
       "</style>\n",
       "<table border=\"1\" class=\"dataframe\">\n",
       "  <thead>\n",
       "    <tr style=\"text-align: right;\">\n",
       "      <th></th>\n",
       "      <th>imdb_id</th>\n",
       "      <th>budget</th>\n",
       "      <th>revenue</th>\n",
       "      <th>original_title</th>\n",
       "      <th>cast</th>\n",
       "      <th>director</th>\n",
       "      <th>tagline</th>\n",
       "      <th>overview</th>\n",
       "      <th>runtime</th>\n",
       "      <th>genres</th>\n",
       "      <th>production_companies</th>\n",
       "      <th>release_date</th>\n",
       "      <th>vote_average</th>\n",
       "      <th>release_year</th>\n",
       "    </tr>\n",
       "  </thead>\n",
       "  <tbody>\n",
       "    <tr>\n",
       "      <th>905</th>\n",
       "      <td>tt0267913</td>\n",
       "      <td>84000000</td>\n",
       "      <td>275650703</td>\n",
       "      <td>Scooby-Doo</td>\n",
       "      <td>Freddie Prinze Jr.|Sarah Michelle Gellar|Matth...</td>\n",
       "      <td>Raja Gosnell</td>\n",
       "      <td>Get a Clue</td>\n",
       "      <td>The Mystery Inc. gang have gone their separate...</td>\n",
       "      <td>88</td>\n",
       "      <td>Mystery|Adventure|Comedy</td>\n",
       "      <td>Atlas Entertainment|Mosaic Media Group|Warner ...</td>\n",
       "      <td>6/14/2002</td>\n",
       "      <td>5.3</td>\n",
       "      <td>2002</td>\n",
       "    </tr>\n",
       "    <tr>\n",
       "      <th>1281</th>\n",
       "      <td>tt2017020</td>\n",
       "      <td>105000000</td>\n",
       "      <td>347434178</td>\n",
       "      <td>The Smurfs 2</td>\n",
       "      <td>Neil Patrick Harris|Christina Ricci|Katy Perry...</td>\n",
       "      <td>Raja Gosnell</td>\n",
       "      <td>Get ready to get naughty!</td>\n",
       "      <td>The evil wizard Gargamel creates a couple of m...</td>\n",
       "      <td>105</td>\n",
       "      <td>Fantasy|Family|Comedy|Animation</td>\n",
       "      <td>Columbia Pictures|Sony Pictures Animation|Kern...</td>\n",
       "      <td>7/30/2013</td>\n",
       "      <td>5.5</td>\n",
       "      <td>2013</td>\n",
       "    </tr>\n",
       "    <tr>\n",
       "      <th>744</th>\n",
       "      <td>tt1411238</td>\n",
       "      <td>25000000</td>\n",
       "      <td>147780440</td>\n",
       "      <td>No Strings Attached</td>\n",
       "      <td>Natalie Portman|Ashton Kutcher|Greta Gerwig|Ke...</td>\n",
       "      <td>Ivan Reitman</td>\n",
       "      <td>Friendship has its benefits.</td>\n",
       "      <td>Emma is a busy doctor who sets up a seemingly ...</td>\n",
       "      <td>108</td>\n",
       "      <td>Comedy|Romance</td>\n",
       "      <td>Paramount Pictures|Spyglass Entertainment|Kata...</td>\n",
       "      <td>1/12/2011</td>\n",
       "      <td>6.1</td>\n",
       "      <td>2011</td>\n",
       "    </tr>\n",
       "    <tr>\n",
       "      <th>355</th>\n",
       "      <td>tt0891592</td>\n",
       "      <td>50000000</td>\n",
       "      <td>12764201</td>\n",
       "      <td>Street Fighter: The Legend of Chun-Li</td>\n",
       "      <td>Kristin Kreuk|Chris Klein|Neal McDonough|Micha...</td>\n",
       "      <td>Andrzej Bartkowiak</td>\n",
       "      <td>Some fight for power. Some fight for us.</td>\n",
       "      <td>When a teenager, Chun-Li witnesses the kidnapp...</td>\n",
       "      <td>97</td>\n",
       "      <td>Action|Adventure|Science Fiction|Thriller</td>\n",
       "      <td>Twentieth Century Fox Film Corporation|Hyde Pa...</td>\n",
       "      <td>2/27/2009</td>\n",
       "      <td>4.1</td>\n",
       "      <td>2009</td>\n",
       "    </tr>\n",
       "    <tr>\n",
       "      <th>814</th>\n",
       "      <td>tt0999913</td>\n",
       "      <td>25000000</td>\n",
       "      <td>10324441</td>\n",
       "      <td>Straw Dogs</td>\n",
       "      <td>James Marsden|Kate Bosworth|Alexander SkarsgÃ¥...</td>\n",
       "      <td>Rod Lurie</td>\n",
       "      <td>Everyone Has A Breaking Point</td>\n",
       "      <td>L.A. screenwriter David Sumner relocates with ...</td>\n",
       "      <td>110</td>\n",
       "      <td>Thriller</td>\n",
       "      <td>Battleplan Productions</td>\n",
       "      <td>9/16/2011</td>\n",
       "      <td>5.3</td>\n",
       "      <td>2011</td>\n",
       "    </tr>\n",
       "  </tbody>\n",
       "</table>\n",
       "</div>"
      ],
      "text/plain": [
       "        imdb_id     budget    revenue                         original_title  \\\n",
       "905   tt0267913   84000000  275650703                             Scooby-Doo   \n",
       "1281  tt2017020  105000000  347434178                           The Smurfs 2   \n",
       "744   tt1411238   25000000  147780440                    No Strings Attached   \n",
       "355   tt0891592   50000000   12764201  Street Fighter: The Legend of Chun-Li   \n",
       "814   tt0999913   25000000   10324441                             Straw Dogs   \n",
       "\n",
       "                                                   cast            director  \\\n",
       "905   Freddie Prinze Jr.|Sarah Michelle Gellar|Matth...        Raja Gosnell   \n",
       "1281  Neil Patrick Harris|Christina Ricci|Katy Perry...        Raja Gosnell   \n",
       "744   Natalie Portman|Ashton Kutcher|Greta Gerwig|Ke...        Ivan Reitman   \n",
       "355   Kristin Kreuk|Chris Klein|Neal McDonough|Micha...  Andrzej Bartkowiak   \n",
       "814   James Marsden|Kate Bosworth|Alexander SkarsgÃ¥...           Rod Lurie   \n",
       "\n",
       "                                       tagline  \\\n",
       "905                                 Get a Clue   \n",
       "1281                 Get ready to get naughty!   \n",
       "744               Friendship has its benefits.   \n",
       "355   Some fight for power. Some fight for us.   \n",
       "814              Everyone Has A Breaking Point   \n",
       "\n",
       "                                               overview  runtime  \\\n",
       "905   The Mystery Inc. gang have gone their separate...       88   \n",
       "1281  The evil wizard Gargamel creates a couple of m...      105   \n",
       "744   Emma is a busy doctor who sets up a seemingly ...      108   \n",
       "355   When a teenager, Chun-Li witnesses the kidnapp...       97   \n",
       "814   L.A. screenwriter David Sumner relocates with ...      110   \n",
       "\n",
       "                                         genres  \\\n",
       "905                    Mystery|Adventure|Comedy   \n",
       "1281            Fantasy|Family|Comedy|Animation   \n",
       "744                              Comedy|Romance   \n",
       "355   Action|Adventure|Science Fiction|Thriller   \n",
       "814                                    Thriller   \n",
       "\n",
       "                                   production_companies release_date  \\\n",
       "905   Atlas Entertainment|Mosaic Media Group|Warner ...    6/14/2002   \n",
       "1281  Columbia Pictures|Sony Pictures Animation|Kern...    7/30/2013   \n",
       "744   Paramount Pictures|Spyglass Entertainment|Kata...    1/12/2011   \n",
       "355   Twentieth Century Fox Film Corporation|Hyde Pa...    2/27/2009   \n",
       "814                              Battleplan Productions    9/16/2011   \n",
       "\n",
       "      vote_average  release_year  \n",
       "905            5.3          2002  \n",
       "1281           5.5          2013  \n",
       "744            6.1          2011  \n",
       "355            4.1          2009  \n",
       "814            5.3          2011  "
      ]
     },
     "execution_count": 2,
     "metadata": {},
     "output_type": "execute_result"
    }
   ],
   "source": [
    "data = pd.read_csv('movie_bd_v5.csv')\n",
    "data.sample(5)"
   ]
  },
  {
   "cell_type": "markdown",
   "metadata": {
    "colab_type": "text",
    "id": "DTIt7ezGVp-G"
   },
   "source": [
    "# Предобработка"
   ]
  },
  {
   "cell_type": "code",
   "execution_count": 3,
   "metadata": {
    "colab": {},
    "colab_type": "code",
    "id": "jNb40DwKVp-H"
   },
   "outputs": [],
   "source": [
    "from typing import List, Callable\n",
    "from collections import Counter\n",
    "\n",
    "answers = {} # создадим словарь для ответов\n",
    "# тут другие ваши предобработки колонок например:\n",
    "\n",
    "# For Вопрос 21. В каком месяце за все годы суммарно вышло больше всего фильмов?\n",
    "month_map = {1:  'Январь',\n",
    "             2:  'Февраль',\n",
    "             3:  'Март',\n",
    "             4:  'Апрель',\n",
    "             5:  'Май',\n",
    "             6:  'Июнь',\n",
    "             7:  'Июль',\n",
    "             8:  'Август',\n",
    "             9:  'Сентябрь',\n",
    "             10: 'Октябрь',\n",
    "             11: 'Ноябрь',\n",
    "             12: 'Декабрь' }\n",
    "\n",
    "# For Вопрос 26. Какие фильмы входят в один процент лучших по рейтингу?\n",
    "check_answer = {\n",
    "    1: ['Inside Out', 'The Dark Knight', '12 Years a Slave'],\n",
    "    2: ['BloodRayne', 'The Adventures of Rocky & Bullwinkle'],\n",
    "    3: ['Batman Begins', 'The Lord of the Rings: The Return of the King', 'Upside Down'],\n",
    "    4: ['300', 'Lucky Number Slevin', 'Kill Bill: Vol. 1'],\n",
    "    5: ['Upside Down', 'Inside Out', 'Iron Man']\n",
    "}\n",
    "\n",
    "\n",
    "##\n",
    "# My functions here\n",
    "#\n",
    "def split_str_by_pipe(str_pipe: str) -> List[str]:\n",
    "    \"\"\"\n",
    "    Split the pipe delimeted string and return\n",
    "    list of words\n",
    "    :param str_pipe: pipe delimeted string to split it\n",
    "    :return: list of trimed string \n",
    "    \"\"\"\n",
    "    return split_str_by_char(str_pipe, '|')\n",
    "\n",
    "def split_str_by_char(str_ch: str, char: str) -> List[str]:\n",
    "    \"\"\"\n",
    "    Split string by given char into list\n",
    "    and trim all words in result\n",
    "    :param str_ch: string to split it\n",
    "    :return: list of trimed string or empty list\n",
    "    if given string is empty\n",
    "    \"\"\"\n",
    "    if str_ch is not None and len(str_ch) > 0:\n",
    "        return [ s.strip('\\n\\r\\t ') for s in str_ch.split(char)]\n",
    "\n",
    "    return []\n",
    "\n",
    "# For 11. Какого жанра фильмов больше всего?\n",
    "def fill_conter(str_pipe: str, func: Callable, counter:Counter):\n",
    "    \"\"\"\n",
    "    :param func: function returns list\n",
    "    :param counter: Counter to update it\n",
    "    \"\"\"\n",
    "    counter.update(func(str_pipe))\n",
    "    \n",
    "\n",
    "#the time given in the dataset is in string format.\n",
    "#So we need to change this in datetime format\n",
    "# ...\n",
    "\n",
    "# # update data. add 'prifit' column\n",
    "# data['profit'] = data[['revenue','budget']].apply(lambda row: row['revenue'] - row['budget'], axis=1 )\n",
    "# # update data. add 'month' column\n",
    "# data['month'] = data['release_date'].apply(lambda c: int(split_str_by_char(str(c),'/')[0]))\n",
    "# # update data. add 'title_lenght' column\n",
    "# data['title_lenght'] = data['original_title'].apply(lambda c: len(str(c)))\n",
    "# # update data. add 'title_lenght' column\n",
    "# data['overview_words_cnt'] = overview_data['overview'].apply(lambda c: len(split_str_by_char(str(c), ' ')))\n",
    "\n",
    "# update data. add 'prifit' column\n",
    "data['profit'] = data[['revenue','budget']].apply(lambda row: row['revenue'] - row['budget'], axis=1 )\n",
    "# update data. add 'month' column\n",
    "data['month'] = data['release_date'].apply(lambda c: int(split_str_by_char(str(c),'/')[0]))\n",
    "# update data. add 'title_lenght' column\n",
    "data['title_lenght'] = data['original_title'].apply(lambda c: len(str(c)))\n",
    "# update data. add 'title_lenght' column\n",
    "data['overview_words_cnt'] = data['overview'].apply(lambda c: len(split_str_by_char(str(c), ' ')))\n",
    "\n",
    "# create aliaces\n",
    "# profit_data = data[['imdb_id', 'profit']]\n",
    "# month_data = data[['imdb_id', 'month']] \n",
    "# title_data = data[['imdb_id', 'title_lenght']] \n",
    "# overview_data = data[['imdb_id', 'overview_words_cnt']] \n",
    "\n",
    "# Create ganre exploded DF\n",
    "# also we need the 'profit' column for \n",
    "# 12. Фильмы какого жанра чаще всего становятся прибыльными?\n",
    "# solutin. Then we are taking profit_data\n",
    "ganre_exploded_data = data.copy()\n",
    "ganre_exploded_data['genre'] = ganre_exploded_data['genres'].apply(lambda c: split_str_by_pipe(str(c)))\n",
    "ganre_exploded_data = ganre_exploded_data.explode('genre')\n",
    "\n",
    "# Create ganre columned DF\n",
    "# update df with 'ganre' columns\n",
    "# if ganre is found set value 1 \n",
    "# also we need the 'profit' column for \n",
    "# 12. Фильмы какого жанра чаще всего становятся прибыльными?\n",
    "ganre_list = Counter()\n",
    "ganre_columend_data = data.copy()\n",
    "data['genres'].apply(lambda g: fill_conter(str(g), split_str_by_pipe, ganre_list))\n",
    "ganres = list(ganre_list)\n",
    "for g in ganres:\n",
    "    ganre_columend_data[g] = ganre_columend_data['genres'].apply(lambda c: 1 if g in split_str_by_pipe(str(c)) else 0)\n",
    "\n",
    "# Create director exploded DF\n",
    "director_exploded_data = data.copy()\n",
    "director_exploded_data['director'] = director_exploded_data['director'].apply(lambda c: split_str_by_pipe(str(c)))\n",
    "director_exploded_data = director_exploded_data.explode('director')\n",
    "\n",
    "# Create cast exploded DF\n",
    "cast_exploded_data = data.copy()\n",
    "cast_exploded_data['cast'] = cast_exploded_data['cast'].apply(lambda c: split_str_by_pipe(str(c)))\n",
    "cast_exploded_data = cast_exploded_data.explode('cast')\n",
    "\n",
    "# Create company exploded DF\n",
    "# also we need the 'profit' column\n",
    "company_exploded_data = data.copy()\n",
    "company_exploded_data['company'] = company_exploded_data['production_companies'].apply(lambda c: split_str_by_pipe(str(c)))\n",
    "company_exploded_data = company_exploded_data.explode('company')"
   ]
  },
  {
   "cell_type": "markdown",
   "metadata": {
    "colab_type": "text",
    "id": "YxZaH-nPVp-L"
   },
   "source": [
    "# 1. У какого фильма из списка самый большой бюджет?"
   ]
  },
  {
   "cell_type": "markdown",
   "metadata": {
    "colab_type": "text",
    "id": "Nd-G5gX6Vp-M"
   },
   "source": [
    "Использовать варианты ответов в коде решения запрещено.    \n",
    "Вы думаете и в жизни у вас будут варианты ответов?)"
   ]
  },
  {
   "cell_type": "code",
   "execution_count": 4,
   "metadata": {
    "colab": {},
    "colab_type": "code",
    "id": "uVnXAY5RVp-O"
   },
   "outputs": [],
   "source": [
    "# в словарь вставляем номер вопроса и ваш ответ на него\n",
    "# Пример: \n",
    "answers['1'] = '2. Spider-Man 3 (tt0413300)'\n",
    "# запишите свой вариант ответа\n",
    "answers['1'] = '...'\n",
    "# если ответили верно, можете добавить комментарий со значком \"+\""
   ]
  },
  {
   "cell_type": "code",
   "execution_count": 5,
   "metadata": {
    "colab": {},
    "colab_type": "code",
    "id": "dZwb3m28Vp-S"
   },
   "outputs": [
    {
     "data": {
      "text/plain": [
       "'Pirates of the Caribbean: On Stranger Tides'"
      ]
     },
     "execution_count": 5,
     "metadata": {},
     "output_type": "execute_result"
    }
   ],
   "source": [
    "# тут пишем ваш код для решения данного вопроса:\n",
    "answers['1'] = data[data['budget']==data['budget'].max()]['original_title'].values[0]\n",
    "answers['1']"
   ]
  },
  {
   "cell_type": "markdown",
   "metadata": {
    "colab_type": "text",
    "id": "K7L3nbRXVp-X"
   },
   "source": [
    "ВАРИАНТ 2"
   ]
  },
  {
   "cell_type": "code",
   "execution_count": 6,
   "metadata": {
    "colab": {},
    "colab_type": "code",
    "id": "OGaoQI7rVp-X"
   },
   "outputs": [
    {
     "data": {
      "text/plain": [
       "'Pirates of the Caribbean: On Stranger Tides'"
      ]
     },
     "execution_count": 6,
     "metadata": {},
     "output_type": "execute_result"
    }
   ],
   "source": [
    "# можно добавлять разные варианты решения\n",
    "answers['1'] = data.loc[data['budget'].idxmax()]['original_title']\n",
    "answers['1'] "
   ]
  },
  {
   "cell_type": "markdown",
   "metadata": {
    "colab_type": "text",
    "id": "FNRbbI3vVp-c"
   },
   "source": [
    "# 2. Какой из фильмов самый длительный (в минутах)?"
   ]
  },
  {
   "cell_type": "code",
   "execution_count": 7,
   "metadata": {
    "colab": {},
    "colab_type": "code",
    "id": "vHAoEXNTVp-d"
   },
   "outputs": [
    {
     "data": {
      "text/plain": [
       "'Gods and Generals'"
      ]
     },
     "execution_count": 7,
     "metadata": {},
     "output_type": "execute_result"
    }
   ],
   "source": [
    "# думаю логику работы с этим словарем вы уже поняли, \n",
    "# по этому не буду больше его дублировать\n",
    "answers['2'] = data.loc[data['runtime'].idxmax()]['original_title']\n",
    "answers['2']"
   ]
  },
  {
   "cell_type": "code",
   "execution_count": 8,
   "metadata": {
    "colab": {},
    "colab_type": "code",
    "id": "ot-VX2XrVp-g"
   },
   "outputs": [
    {
     "data": {
      "text/plain": [
       "'Gods and Generals'"
      ]
     },
     "execution_count": 8,
     "metadata": {},
     "output_type": "execute_result"
    }
   ],
   "source": [
    "answers['2'] = data.sort_values('runtime', ascending=False).iloc[0]['original_title']\n",
    "answers['2']"
   ]
  },
  {
   "cell_type": "markdown",
   "metadata": {
    "colab_type": "text",
    "id": "bapLlpW8Vp-k"
   },
   "source": [
    "# 3. Какой из фильмов самый короткий (в минутах)?\n",
    "\n",
    "\n",
    "\n"
   ]
  },
  {
   "cell_type": "code",
   "execution_count": 9,
   "metadata": {
    "colab": {},
    "colab_type": "code",
    "id": "YBxaSHuAVp-l"
   },
   "outputs": [
    {
     "data": {
      "text/plain": [
       "'Winnie the Pooh'"
      ]
     },
     "execution_count": 9,
     "metadata": {},
     "output_type": "execute_result"
    }
   ],
   "source": [
    "answers['3'] = data.loc[data['runtime'].idxmin()]['original_title']\n",
    "answers['3']"
   ]
  },
  {
   "cell_type": "markdown",
   "metadata": {
    "colab_type": "text",
    "id": "TfQbxbfNVp-p"
   },
   "source": [
    "# 4. Какова средняя длительность фильмов?\n"
   ]
  },
  {
   "cell_type": "code",
   "execution_count": 10,
   "metadata": {
    "colab": {},
    "colab_type": "code",
    "id": "5K6dKZYVVp-q"
   },
   "outputs": [
    {
     "data": {
      "text/plain": [
       "110"
      ]
     },
     "execution_count": 10,
     "metadata": {},
     "output_type": "execute_result"
    }
   ],
   "source": [
    "answers['4'] = round(data['runtime'].mean())\n",
    "answers['4']"
   ]
  },
  {
   "cell_type": "markdown",
   "metadata": {
    "colab_type": "text",
    "id": "r5TvbnT_Vp-u"
   },
   "source": [
    "# 5. Каково медианное значение длительности фильмов? "
   ]
  },
  {
   "cell_type": "code",
   "execution_count": 11,
   "metadata": {
    "colab": {},
    "colab_type": "code",
    "id": "iBROplKnVp-v"
   },
   "outputs": [
    {
     "data": {
      "text/plain": [
       "107"
      ]
     },
     "execution_count": 11,
     "metadata": {},
     "output_type": "execute_result"
    }
   ],
   "source": [
    "answers['5'] = round(data['runtime'].median())\n",
    "answers['5']"
   ]
  },
  {
   "cell_type": "markdown",
   "metadata": {
    "colab_type": "text",
    "id": "39P-deDSVp-y"
   },
   "source": [
    "# 6. Какой самый прибыльный фильм?\n",
    "#### Внимание! Здесь и далее под «прибылью» или «убытками» понимается разность между сборами и бюджетом фильма. (прибыль = сборы - бюджет) в нашем датасете это будет (profit = revenue - budget) "
   ]
  },
  {
   "cell_type": "code",
   "execution_count": 12,
   "metadata": {
    "colab": {},
    "colab_type": "code",
    "id": "UYZh4T9WVp-y"
   },
   "outputs": [
    {
     "data": {
      "text/plain": [
       "'Avatar'"
      ]
     },
     "execution_count": 12,
     "metadata": {},
     "output_type": "execute_result"
    }
   ],
   "source": [
    "# лучше код получения столбца profit вынести в Предобработку что в начале\n",
    "answers['6'] = data.loc[data['profit'].idxmax()]['original_title']\n",
    "answers['6']"
   ]
  },
  {
   "cell_type": "markdown",
   "metadata": {
    "colab_type": "text",
    "id": "M99JmIX4Vp-2"
   },
   "source": [
    "# 7. Какой фильм самый убыточный? "
   ]
  },
  {
   "cell_type": "code",
   "execution_count": 13,
   "metadata": {
    "colab": {},
    "colab_type": "code",
    "id": "w-D2m4XPVp-3"
   },
   "outputs": [
    {
     "data": {
      "text/plain": [
       "'The Lone Ranger'"
      ]
     },
     "execution_count": 13,
     "metadata": {},
     "output_type": "execute_result"
    }
   ],
   "source": [
    "answers['7'] = data.loc[data['profit'].idxmin()]['original_title']\n",
    "answers['7']"
   ]
  },
  {
   "cell_type": "markdown",
   "metadata": {
    "colab_type": "text",
    "id": "wEOM5ERVVp-6"
   },
   "source": [
    "# 8. У скольких фильмов из датасета объем сборов оказался выше бюджета?"
   ]
  },
  {
   "cell_type": "code",
   "execution_count": 14,
   "metadata": {
    "colab": {},
    "colab_type": "code",
    "id": "y00_7HD6Vp-7"
   },
   "outputs": [
    {
     "data": {
      "text/plain": [
       "1478"
      ]
     },
     "execution_count": 14,
     "metadata": {},
     "output_type": "execute_result"
    }
   ],
   "source": [
    "answers['8'] = data[data['profit'] > 0 ]['imdb_id'].unique().size\n",
    "answers['8']"
   ]
  },
  {
   "cell_type": "markdown",
   "metadata": {
    "colab_type": "text",
    "id": "xhpspA9KVp_A"
   },
   "source": [
    "# 9. Какой фильм оказался самым кассовым в 2008 году?"
   ]
  },
  {
   "cell_type": "code",
   "execution_count": 15,
   "metadata": {
    "colab": {},
    "colab_type": "code",
    "id": "MoUyQr9RVp_B"
   },
   "outputs": [
    {
     "data": {
      "text/plain": [
       "'The Dark Knight'"
      ]
     },
     "execution_count": 15,
     "metadata": {},
     "output_type": "execute_result"
    }
   ],
   "source": [
    "answers['9'] = data.loc[data[data['release_year'] == 2008 ]['profit'].idxmax()]['original_title']\n",
    "answers['9']"
   ]
  },
  {
   "cell_type": "markdown",
   "metadata": {
    "colab_type": "text",
    "id": "Zi4hDKidVp_F"
   },
   "source": [
    "# 10. Самый убыточный фильм за период с 2012 по 2014 г. (включительно)?\n"
   ]
  },
  {
   "cell_type": "code",
   "execution_count": 16,
   "metadata": {},
   "outputs": [
    {
     "data": {
      "text/plain": [
       "'The Lone Ranger'"
      ]
     },
     "execution_count": 16,
     "metadata": {},
     "output_type": "execute_result"
    }
   ],
   "source": [
    "answers['10'] = data.loc[data[data['release_year'].between(2012, 2014, inclusive=True)]['profit'].idxmin()]['original_title']\n",
    "answers['10']"
   ]
  },
  {
   "cell_type": "markdown",
   "metadata": {
    "colab_type": "text",
    "id": "EA7Sa9dkVp_I"
   },
   "source": [
    "# 11. Какого жанра фильмов больше всего?"
   ]
  },
  {
   "cell_type": "code",
   "execution_count": 17,
   "metadata": {
    "colab": {},
    "colab_type": "code",
    "id": "zsJAwJ8QVp_J"
   },
   "outputs": [
    {
     "data": {
      "text/plain": [
       "'Drama'"
      ]
     },
     "execution_count": 17,
     "metadata": {},
     "output_type": "execute_result"
    }
   ],
   "source": [
    "# эту задачу тоже можно решать разными подходами, попробуй реализовать разные варианты\n",
    "# если будешь добавлять функцию - выноси ее в предобработку что в начале\n",
    "\n",
    "# Create counter    \n",
    "ganre_counter = Counter()\n",
    "\n",
    "# Run apply and upadte Counter obj\n",
    "# split_str_by_pipe - splits string by pipeline and returns list of word\n",
    "data['genres'].apply(lambda g: fill_conter(str(g), split_str_by_pipe, ganre_counter))\n",
    "\n",
    "answers['11'] = ganre_counter.most_common(1)[0][0]\n",
    "answers['11']"
   ]
  },
  {
   "cell_type": "markdown",
   "metadata": {
    "colab_type": "text",
    "id": "Ax6g2C8SVp_M"
   },
   "source": [
    "ВАРИАНТ 2"
   ]
  },
  {
   "cell_type": "code",
   "execution_count": 18,
   "metadata": {
    "colab": {},
    "colab_type": "code",
    "id": "otO3SbrSVp_N"
   },
   "outputs": [
    {
     "data": {
      "text/plain": [
       "'Drama'"
      ]
     },
     "execution_count": 18,
     "metadata": {},
     "output_type": "execute_result"
    }
   ],
   "source": [
    "# ganres - list of gannres created above\n",
    "ganre_columend_data[ganres].sum().idxmax()"
   ]
  },
  {
   "cell_type": "markdown",
   "metadata": {},
   "source": [
    "ВАРИАНТ 3"
   ]
  },
  {
   "cell_type": "code",
   "execution_count": 19,
   "metadata": {},
   "outputs": [
    {
     "data": {
      "text/plain": [
       "'Drama'"
      ]
     },
     "execution_count": 19,
     "metadata": {},
     "output_type": "execute_result"
    }
   ],
   "source": [
    "ganre_exploded_data['genre'].value_counts().idxmax()"
   ]
  },
  {
   "cell_type": "markdown",
   "metadata": {
    "colab_type": "text",
    "id": "T9_bPWpkVp_Q"
   },
   "source": [
    "# 12. Фильмы какого жанра чаще всего становятся прибыльными? "
   ]
  },
  {
   "cell_type": "code",
   "execution_count": 20,
   "metadata": {},
   "outputs": [
    {
     "data": {
      "text/plain": [
       "'Drama'"
      ]
     },
     "execution_count": 20,
     "metadata": {},
     "output_type": "execute_result"
    }
   ],
   "source": [
    "ganre_columend_data[ganre_columend_data['profit'] > 0][ganres].sum().idxmax()"
   ]
  },
  {
   "cell_type": "code",
   "execution_count": 21,
   "metadata": {
    "colab": {},
    "colab_type": "code",
    "id": "Tmt8MaK1Vp_R"
   },
   "outputs": [
    {
     "data": {
      "text/plain": [
       "'Drama'"
      ]
     },
     "execution_count": 21,
     "metadata": {},
     "output_type": "execute_result"
    }
   ],
   "source": [
    "answers['12'] = ganre_exploded_data[ganre_exploded_data['profit'] > 0]['genre'].value_counts().idxmax()\n",
    "answers['12']"
   ]
  },
  {
   "cell_type": "markdown",
   "metadata": {
    "colab_type": "text",
    "id": "0F23bgsDVp_U"
   },
   "source": [
    "# 13. У какого режиссера самые большие суммарные кассовые сбооры?"
   ]
  },
  {
   "cell_type": "code",
   "execution_count": 22,
   "metadata": {},
   "outputs": [
    {
     "data": {
      "text/plain": [
       "'Peter Jackson'"
      ]
     },
     "execution_count": 22,
     "metadata": {},
     "output_type": "execute_result"
    }
   ],
   "source": [
    "answers['13'] = director_exploded_data.groupby('director')['revenue'].apply(sum).idxmax()\n",
    "answers['13']"
   ]
  },
  {
   "cell_type": "markdown",
   "metadata": {
    "colab_type": "text",
    "id": "PsYC9FgRVp_a"
   },
   "source": [
    "# 14. Какой режисер снял больше всего фильмов в стиле Action?"
   ]
  },
  {
   "cell_type": "code",
   "execution_count": 23,
   "metadata": {},
   "outputs": [
    {
     "data": {
      "text/plain": [
       "'Robert Rodriguez'"
      ]
     },
     "execution_count": 23,
     "metadata": {},
     "output_type": "execute_result"
    }
   ],
   "source": [
    "# merge ganre_exploded_data and director_exploded_data\n",
    "# and cont max\n",
    "answers['14'] = ganre_exploded_data[['imdb_id','genre']][ganre_exploded_data['genre']=='Action'] \\\n",
    "               .merge(director_exploded_data[['imdb_id','director']], on='imdb_id')['director'] \\\n",
    "               .value_counts().idxmax()\n",
    "answers['14']"
   ]
  },
  {
   "cell_type": "markdown",
   "metadata": {
    "colab_type": "text",
    "id": "PQ0KciD7Vp_f"
   },
   "source": [
    "# 15. Фильмы с каким актером принесли самые высокие кассовые сборы в 2012 году? "
   ]
  },
  {
   "cell_type": "code",
   "execution_count": 24,
   "metadata": {
    "colab": {},
    "colab_type": "code",
    "id": "aga62oeKVp_g"
   },
   "outputs": [
    {
     "data": {
      "text/plain": [
       "'Chris Hemsworth'"
      ]
     },
     "execution_count": 24,
     "metadata": {},
     "output_type": "execute_result"
    }
   ],
   "source": [
    "answers['15'] = cast_exploded_data[cast_exploded_data['release_year']==2012] \\\n",
    "                .groupby('cast')['revenue'].apply(sum).idxmax()\n",
    "answers['15']"
   ]
  },
  {
   "cell_type": "markdown",
   "metadata": {
    "colab_type": "text",
    "id": "mWHyyL7QVp_j"
   },
   "source": [
    "# 16. Какой актер снялся в большем количестве высокобюджетных фильмов?"
   ]
  },
  {
   "cell_type": "code",
   "execution_count": 25,
   "metadata": {
    "colab": {},
    "colab_type": "code",
    "id": "qQtmHKTFVp_k"
   },
   "outputs": [
    {
     "data": {
      "text/plain": [
       "'Matt Damon'"
      ]
     },
     "execution_count": 25,
     "metadata": {},
     "output_type": "execute_result"
    }
   ],
   "source": [
    "answers['16'] = cast_exploded_data[cast_exploded_data['budget'] > cast_exploded_data['budget'].mean()] \\\n",
    "                ['cast'].value_counts().idxmax()\n",
    "answers['16']"
   ]
  },
  {
   "cell_type": "markdown",
   "metadata": {
    "colab_type": "text",
    "id": "NIh6AaW5Vp_n"
   },
   "source": [
    "# 17. В фильмах какого жанра больше всего снимался Nicolas Cage? "
   ]
  },
  {
   "cell_type": "code",
   "execution_count": 26,
   "metadata": {},
   "outputs": [
    {
     "data": {
      "text/plain": [
       "'Action'"
      ]
     },
     "execution_count": 26,
     "metadata": {},
     "output_type": "execute_result"
    }
   ],
   "source": [
    "answers['17'] = cast_exploded_data[['imdb_id','cast']][cast_exploded_data['cast']=='Nicolas Cage'] \\\n",
    "                .merge(ganre_exploded_data[['imdb_id','genre']], on='imdb_id') \\\n",
    "                ['genre'].value_counts().idxmax()\n",
    "answers['17']"
   ]
  },
  {
   "cell_type": "markdown",
   "metadata": {
    "colab_type": "text",
    "id": "RqOmPRfWVp_q"
   },
   "source": [
    "# 18. Самый убыточный фильм от Paramount Pictures"
   ]
  },
  {
   "cell_type": "code",
   "execution_count": 27,
   "metadata": {
    "colab": {},
    "colab_type": "code",
    "id": "9E_B0Y96Vp_r"
   },
   "outputs": [
    {
     "data": {
      "text/plain": [
       "'K-19: The Widowmaker'"
      ]
     },
     "execution_count": 27,
     "metadata": {},
     "output_type": "execute_result"
    }
   ],
   "source": [
    "answers['18'] = company_exploded_data[(company_exploded_data['company'].str.startswith('Paramount Pictures'))]. \\\n",
    "                sort_values('profit', ascending=True). \\\n",
    "                iloc[0]['original_title']\n",
    "answers['18']"
   ]
  },
  {
   "cell_type": "markdown",
   "metadata": {
    "colab_type": "text",
    "id": "vS8Ur6ddVp_u"
   },
   "source": [
    "# 19. Какой год стал самым успешным по суммарным кассовым сборам?"
   ]
  },
  {
   "cell_type": "code",
   "execution_count": 28,
   "metadata": {
    "colab": {},
    "colab_type": "code",
    "id": "Dnbt4GdIVp_v"
   },
   "outputs": [
    {
     "data": {
      "text/plain": [
       "2015"
      ]
     },
     "execution_count": 28,
     "metadata": {},
     "output_type": "execute_result"
    }
   ],
   "source": [
    "answers['19'] = data.groupby('release_year')['revenue'].apply(sum).idxmax()\n",
    "answers['19']"
   ]
  },
  {
   "cell_type": "markdown",
   "metadata": {
    "colab_type": "text",
    "id": "JAzJh4QAVp_z"
   },
   "source": [
    "# 20. Какой самый прибыльный год для студии Warner Bros?"
   ]
  },
  {
   "cell_type": "code",
   "execution_count": 29,
   "metadata": {
    "colab": {},
    "colab_type": "code",
    "id": "wgVu02DEVp_0"
   },
   "outputs": [
    {
     "data": {
      "text/plain": [
       "2014"
      ]
     },
     "execution_count": 29,
     "metadata": {},
     "output_type": "execute_result"
    }
   ],
   "source": [
    "answers['20'] = company_exploded_data[(company_exploded_data['company'].str.startswith('Warner Bros'))] \\\n",
    "                .groupby('release_year')['profit'].apply(sum).idxmax()\n",
    "answers['20']"
   ]
  },
  {
   "cell_type": "markdown",
   "metadata": {
    "colab_type": "text",
    "id": "8Im1S2HRVp_4"
   },
   "source": [
    "# 21. В каком месяце за все годы суммарно вышло больше всего фильмов?"
   ]
  },
  {
   "cell_type": "code",
   "execution_count": 30,
   "metadata": {
    "colab": {},
    "colab_type": "code",
    "id": "lev6TH7gVp_4"
   },
   "outputs": [
    {
     "data": {
      "text/plain": [
       "'Сентябрь'"
      ]
     },
     "execution_count": 30,
     "metadata": {},
     "output_type": "execute_result"
    }
   ],
   "source": [
    "answers['21'] = month_map[data.groupby('month')['imdb_id'].nunique().idxmax()]\n",
    "answers['21']"
   ]
  },
  {
   "cell_type": "markdown",
   "metadata": {
    "colab_type": "text",
    "id": "uAJsZ_NeVp_7"
   },
   "source": [
    "# 22. Сколько суммарно вышло фильмов летом? (за июнь, июль, август)"
   ]
  },
  {
   "cell_type": "code",
   "execution_count": 31,
   "metadata": {
    "colab": {},
    "colab_type": "code",
    "id": "Aa-hEREoVp_8"
   },
   "outputs": [
    {
     "data": {
      "text/plain": [
       "450"
      ]
     },
     "execution_count": 31,
     "metadata": {},
     "output_type": "execute_result"
    }
   ],
   "source": [
    "answers['22'] = data[data['month'].isin([6,7,8])]['imdb_id'].unique().size\n",
    "answers['22']"
   ]
  },
  {
   "cell_type": "markdown",
   "metadata": {
    "colab_type": "text",
    "id": "G94ppOY1VqAA"
   },
   "source": [
    "# 23. Для какого режиссера зима – самое продуктивное время года? "
   ]
  },
  {
   "cell_type": "code",
   "execution_count": 32,
   "metadata": {},
   "outputs": [
    {
     "data": {
      "text/plain": [
       "'Peter Jackson'"
      ]
     },
     "execution_count": 32,
     "metadata": {},
     "output_type": "execute_result"
    }
   ],
   "source": [
    "answers['23'] = data[['imdb_id','month']][data['month'].isin([1,2,12])] \\\n",
    "                .merge(director_exploded_data[['imdb_id','director']], on='imdb_id') \\\n",
    "                ['director'].value_counts().idxmax()\n",
    "answers['23']"
   ]
  },
  {
   "cell_type": "markdown",
   "metadata": {
    "colab_type": "text",
    "id": "RBo0JVjVVqAF"
   },
   "source": [
    "# 24. Какая студия дает самые длинные названия своим фильмам по количеству символов?"
   ]
  },
  {
   "cell_type": "code",
   "execution_count": 33,
   "metadata": {},
   "outputs": [
    {
     "data": {
      "text/plain": [
       "'Four By Two Productions'"
      ]
     },
     "execution_count": 33,
     "metadata": {},
     "output_type": "execute_result"
    }
   ],
   "source": [
    "answers['24'] = company_exploded_data[['imdb_id','company']] \\\n",
    "               .merge(data[['imdb_id','title_lenght']], on='imdb_id') \\\n",
    "               .groupby('company')['title_lenght'].mean().idxmax()\n",
    "answers['24']"
   ]
  },
  {
   "cell_type": "markdown",
   "metadata": {
    "colab_type": "text",
    "id": "9G0hbvR7VqAK"
   },
   "source": [
    "# 25. Описание фильмов какой студии в среднем самые длинные по количеству слов?"
   ]
  },
  {
   "cell_type": "code",
   "execution_count": 34,
   "metadata": {},
   "outputs": [
    {
     "data": {
      "text/plain": [
       "'Midnight Picture Show'"
      ]
     },
     "execution_count": 34,
     "metadata": {},
     "output_type": "execute_result"
    }
   ],
   "source": [
    "answers['25'] = company_exploded_data[['imdb_id','company']] \\\n",
    "               .merge(data[['imdb_id','overview_words_cnt']], on='imdb_id') \\\n",
    "               .groupby('company')['overview_words_cnt'].mean().idxmax()\n",
    "answers['25']"
   ]
  },
  {
   "cell_type": "markdown",
   "metadata": {
    "colab_type": "text",
    "id": "FJ1AFt90VqAP"
   },
   "source": [
    "# 26. Какие фильмы входят в 1 процент лучших по рейтингу? "
   ]
  },
  {
   "cell_type": "code",
   "execution_count": 35,
   "metadata": {},
   "outputs": [
    {
     "data": {
      "text/plain": [
       "['Inside Out', 'The Dark Knight', '12 Years a Slave']"
      ]
     },
     "execution_count": 35,
     "metadata": {},
     "output_type": "execute_result"
    }
   ],
   "source": [
    "# get top titles list\n",
    "top_titles_df = data[data['vote_average'] >= data['vote_average'].quantile(0.99)] \\\n",
    "             .sort_values('vote_average', ascending=False)[['original_title']]\n",
    "\n",
    "# define subsets\n",
    "result_id=[]\n",
    "for i, lst in check_answer.items():\n",
    "    # cnt found items\n",
    "    found_cnt = top_titles_df[top_titles_df['original_title'].isin(lst)].shape[0]\n",
    "    # if all items found store the key\n",
    "    if found_cnt == len(lst):\n",
    "        result_id += [i] \n",
    "\n",
    "#get subset by key\n",
    "answers['26'] = check_answer[result_id[0] if len(result_id) == 1 else -1]\n",
    "answers['26']"
   ]
  },
  {
   "cell_type": "markdown",
   "metadata": {
    "colab_type": "text",
    "id": "MdXsUXbCVqAV"
   },
   "source": [
    "# 27. Какие актеры чаще всего снимаются в одном фильме вместе?\n"
   ]
  },
  {
   "cell_type": "markdown",
   "metadata": {
    "colab_type": "text",
    "id": "4ymnxEVoVqAW"
   },
   "source": [
    "ВАРИАНТ 2"
   ]
  },
  {
   "cell_type": "code",
   "execution_count": 36,
   "metadata": {},
   "outputs": [
    {
     "data": {
      "text/plain": [
       "('Daniel Radcliffe', 'Rupert Grint')"
      ]
     },
     "execution_count": 36,
     "metadata": {},
     "output_type": "execute_result"
    }
   ],
   "source": [
    "pair_cnt = Counter()\n",
    "data['cast'].apply(lambda s: pair_cnt.update(list(itertools.combinations(split_str_by_pipe(str(s)), 2))))\n",
    "answers['27'] = pair_cnt.most_common(1)[0][0]\n",
    "answers['27']"
   ]
  },
  {
   "cell_type": "markdown",
   "metadata": {
    "colab_type": "text",
    "id": "U0nONFnGVqAX"
   },
   "source": [
    "# Submission"
   ]
  },
  {
   "cell_type": "code",
   "execution_count": 37,
   "metadata": {
    "colab": {},
    "colab_type": "code",
    "id": "IfcaRO9-VqAX",
    "outputId": "0f132912-32bb-4196-c98c-abfbc4ad5a5f"
   },
   "outputs": [
    {
     "data": {
      "text/plain": [
       "{'1': 'Pirates of the Caribbean: On Stranger Tides',\n",
       " '2': 'Gods and Generals',\n",
       " '3': 'Winnie the Pooh',\n",
       " '4': 110,\n",
       " '5': 107,\n",
       " '6': 'Avatar',\n",
       " '7': 'The Lone Ranger',\n",
       " '8': 1478,\n",
       " '9': 'The Dark Knight',\n",
       " '10': 'The Lone Ranger',\n",
       " '11': 'Drama',\n",
       " '12': 'Drama',\n",
       " '13': 'Peter Jackson',\n",
       " '14': 'Robert Rodriguez',\n",
       " '15': 'Chris Hemsworth',\n",
       " '16': 'Matt Damon',\n",
       " '17': 'Action',\n",
       " '18': 'K-19: The Widowmaker',\n",
       " '19': 2015,\n",
       " '20': 2014,\n",
       " '21': 'Сентябрь',\n",
       " '22': 450,\n",
       " '23': 'Peter Jackson',\n",
       " '24': 'Four By Two Productions',\n",
       " '25': 'Midnight Picture Show',\n",
       " '26': ['Inside Out', 'The Dark Knight', '12 Years a Slave'],\n",
       " '27': ('Daniel Radcliffe', 'Rupert Grint')}"
      ]
     },
     "execution_count": 37,
     "metadata": {},
     "output_type": "execute_result"
    }
   ],
   "source": [
    "# в конце можно посмотреть свои ответы к каждому вопросу\n",
    "answers"
   ]
  },
  {
   "cell_type": "code",
   "execution_count": 38,
   "metadata": {
    "colab": {},
    "colab_type": "code",
    "id": "SiRmHPl8VqAd"
   },
   "outputs": [
    {
     "data": {
      "text/plain": [
       "27"
      ]
     },
     "execution_count": 38,
     "metadata": {},
     "output_type": "execute_result"
    }
   ],
   "source": [
    "# и убедиться что ни чего не пропустил)\n",
    "len(answers)"
   ]
  },
  {
   "cell_type": "code",
   "execution_count": null,
   "metadata": {
    "colab": {},
    "colab_type": "code",
    "id": "uCfuTkRbVqAg"
   },
   "outputs": [],
   "source": []
  },
  {
   "cell_type": "code",
   "execution_count": null,
   "metadata": {
    "colab": {},
    "colab_type": "code",
    "id": "Vwx3NrkSVqAl"
   },
   "outputs": [],
   "source": []
  }
 ],
 "metadata": {
  "colab": {
   "name": "Copy of [SF-DST] Movies IMBD v4.1 TEMPLATE.ipynb",
   "provenance": []
  },
  "kernelspec": {
   "display_name": "Python 3",
   "language": "python",
   "name": "python3"
  },
  "language_info": {
   "codemirror_mode": {
    "name": "ipython",
    "version": 3
   },
   "file_extension": ".py",
   "mimetype": "text/x-python",
   "name": "python",
   "nbconvert_exporter": "python",
   "pygments_lexer": "ipython3",
   "version": "3.7.6"
  }
 },
 "nbformat": 4,
 "nbformat_minor": 1
}
